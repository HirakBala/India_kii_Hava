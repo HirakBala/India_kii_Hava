{
 "cells": [
  {
   "cell_type": "markdown",
   "metadata": {},
   "source": [
    "                                        The project aims to analyze air quality trends across various cities \n",
    "                                        in India and provide insights into factors influencing air quality."
   ]
  },
  {
   "cell_type": "markdown",
   "metadata": {},
   "source": [
    "Getting things ready."
   ]
  },
  {
   "cell_type": "code",
   "execution_count": 2,
   "metadata": {},
   "outputs": [],
   "source": [
    "import matplotlib.pyplot as plt\n",
    "import pandas as pd\n",
    "import numpy as np\n",
    "import seaborn as sns\n"
   ]
  },
  {
   "cell_type": "markdown",
   "metadata": {},
   "source": [
    "Loading the dataset."
   ]
  },
  {
   "cell_type": "code",
   "execution_count": 3,
   "metadata": {},
   "outputs": [],
   "source": [
    "df = pd.read_csv(r\"C:\\Users\\HP\\Documents\\EDA\\AirQuality_India 2015-2020.csv\")"
   ]
  },
  {
   "cell_type": "code",
   "execution_count": 4,
   "metadata": {},
   "outputs": [
    {
     "data": {
      "text/html": [
       "<div>\n",
       "<style scoped>\n",
       "    .dataframe tbody tr th:only-of-type {\n",
       "        vertical-align: middle;\n",
       "    }\n",
       "\n",
       "    .dataframe tbody tr th {\n",
       "        vertical-align: top;\n",
       "    }\n",
       "\n",
       "    .dataframe thead th {\n",
       "        text-align: right;\n",
       "    }\n",
       "</style>\n",
       "<table border=\"1\" class=\"dataframe\">\n",
       "  <thead>\n",
       "    <tr style=\"text-align: right;\">\n",
       "      <th></th>\n",
       "      <th>City</th>\n",
       "      <th>Datetime</th>\n",
       "      <th>PM2.5</th>\n",
       "      <th>PM10</th>\n",
       "      <th>NO</th>\n",
       "      <th>NO2</th>\n",
       "      <th>NOx</th>\n",
       "      <th>NH3</th>\n",
       "      <th>CO</th>\n",
       "      <th>SO2</th>\n",
       "      <th>O3</th>\n",
       "      <th>Benzene</th>\n",
       "      <th>Toluene</th>\n",
       "      <th>Xylene</th>\n",
       "      <th>AQI</th>\n",
       "      <th>AQI_Bucket</th>\n",
       "    </tr>\n",
       "  </thead>\n",
       "  <tbody>\n",
       "    <tr>\n",
       "      <th>0</th>\n",
       "      <td>Ahmedabad</td>\n",
       "      <td>2015-01-01 01:00:00</td>\n",
       "      <td>NaN</td>\n",
       "      <td>NaN</td>\n",
       "      <td>1.00</td>\n",
       "      <td>40.01</td>\n",
       "      <td>36.37</td>\n",
       "      <td>NaN</td>\n",
       "      <td>1.00</td>\n",
       "      <td>122.07</td>\n",
       "      <td>NaN</td>\n",
       "      <td>0.0</td>\n",
       "      <td>0.0</td>\n",
       "      <td>0.0</td>\n",
       "      <td>NaN</td>\n",
       "      <td>NaN</td>\n",
       "    </tr>\n",
       "    <tr>\n",
       "      <th>1</th>\n",
       "      <td>Ahmedabad</td>\n",
       "      <td>2015-01-01 02:00:00</td>\n",
       "      <td>NaN</td>\n",
       "      <td>NaN</td>\n",
       "      <td>0.02</td>\n",
       "      <td>27.75</td>\n",
       "      <td>19.73</td>\n",
       "      <td>NaN</td>\n",
       "      <td>0.02</td>\n",
       "      <td>85.90</td>\n",
       "      <td>NaN</td>\n",
       "      <td>0.0</td>\n",
       "      <td>0.0</td>\n",
       "      <td>0.0</td>\n",
       "      <td>NaN</td>\n",
       "      <td>NaN</td>\n",
       "    </tr>\n",
       "    <tr>\n",
       "      <th>2</th>\n",
       "      <td>Ahmedabad</td>\n",
       "      <td>2015-01-01 03:00:00</td>\n",
       "      <td>NaN</td>\n",
       "      <td>NaN</td>\n",
       "      <td>0.08</td>\n",
       "      <td>19.32</td>\n",
       "      <td>11.08</td>\n",
       "      <td>NaN</td>\n",
       "      <td>0.08</td>\n",
       "      <td>52.83</td>\n",
       "      <td>NaN</td>\n",
       "      <td>0.0</td>\n",
       "      <td>0.0</td>\n",
       "      <td>0.0</td>\n",
       "      <td>NaN</td>\n",
       "      <td>NaN</td>\n",
       "    </tr>\n",
       "    <tr>\n",
       "      <th>3</th>\n",
       "      <td>Ahmedabad</td>\n",
       "      <td>2015-01-01 04:00:00</td>\n",
       "      <td>NaN</td>\n",
       "      <td>NaN</td>\n",
       "      <td>0.30</td>\n",
       "      <td>16.45</td>\n",
       "      <td>9.20</td>\n",
       "      <td>NaN</td>\n",
       "      <td>0.30</td>\n",
       "      <td>39.53</td>\n",
       "      <td>153.58</td>\n",
       "      <td>0.0</td>\n",
       "      <td>0.0</td>\n",
       "      <td>0.0</td>\n",
       "      <td>NaN</td>\n",
       "      <td>NaN</td>\n",
       "    </tr>\n",
       "    <tr>\n",
       "      <th>4</th>\n",
       "      <td>Ahmedabad</td>\n",
       "      <td>2015-01-01 05:00:00</td>\n",
       "      <td>NaN</td>\n",
       "      <td>NaN</td>\n",
       "      <td>0.12</td>\n",
       "      <td>14.90</td>\n",
       "      <td>7.85</td>\n",
       "      <td>NaN</td>\n",
       "      <td>0.12</td>\n",
       "      <td>32.63</td>\n",
       "      <td>NaN</td>\n",
       "      <td>0.0</td>\n",
       "      <td>0.0</td>\n",
       "      <td>0.0</td>\n",
       "      <td>NaN</td>\n",
       "      <td>NaN</td>\n",
       "    </tr>\n",
       "    <tr>\n",
       "      <th>...</th>\n",
       "      <td>...</td>\n",
       "      <td>...</td>\n",
       "      <td>...</td>\n",
       "      <td>...</td>\n",
       "      <td>...</td>\n",
       "      <td>...</td>\n",
       "      <td>...</td>\n",
       "      <td>...</td>\n",
       "      <td>...</td>\n",
       "      <td>...</td>\n",
       "      <td>...</td>\n",
       "      <td>...</td>\n",
       "      <td>...</td>\n",
       "      <td>...</td>\n",
       "      <td>...</td>\n",
       "      <td>...</td>\n",
       "    </tr>\n",
       "    <tr>\n",
       "      <th>707870</th>\n",
       "      <td>Visakhapatnam</td>\n",
       "      <td>2020-06-30 20:00:00</td>\n",
       "      <td>9.50</td>\n",
       "      <td>36.00</td>\n",
       "      <td>2.75</td>\n",
       "      <td>25.57</td>\n",
       "      <td>15.85</td>\n",
       "      <td>4.57</td>\n",
       "      <td>0.62</td>\n",
       "      <td>NaN</td>\n",
       "      <td>27.75</td>\n",
       "      <td>NaN</td>\n",
       "      <td>NaN</td>\n",
       "      <td>NaN</td>\n",
       "      <td>51.0</td>\n",
       "      <td>Satisfactory</td>\n",
       "    </tr>\n",
       "    <tr>\n",
       "      <th>707871</th>\n",
       "      <td>Visakhapatnam</td>\n",
       "      <td>2020-06-30 21:00:00</td>\n",
       "      <td>17.25</td>\n",
       "      <td>49.25</td>\n",
       "      <td>3.62</td>\n",
       "      <td>33.20</td>\n",
       "      <td>20.62</td>\n",
       "      <td>3.78</td>\n",
       "      <td>0.76</td>\n",
       "      <td>2.02</td>\n",
       "      <td>25.58</td>\n",
       "      <td>NaN</td>\n",
       "      <td>NaN</td>\n",
       "      <td>NaN</td>\n",
       "      <td>51.0</td>\n",
       "      <td>Satisfactory</td>\n",
       "    </tr>\n",
       "    <tr>\n",
       "      <th>707872</th>\n",
       "      <td>Visakhapatnam</td>\n",
       "      <td>2020-06-30 22:00:00</td>\n",
       "      <td>36.00</td>\n",
       "      <td>71.00</td>\n",
       "      <td>2.20</td>\n",
       "      <td>30.80</td>\n",
       "      <td>18.20</td>\n",
       "      <td>3.67</td>\n",
       "      <td>0.58</td>\n",
       "      <td>1.77</td>\n",
       "      <td>26.15</td>\n",
       "      <td>NaN</td>\n",
       "      <td>NaN</td>\n",
       "      <td>NaN</td>\n",
       "      <td>50.0</td>\n",
       "      <td>Good</td>\n",
       "    </tr>\n",
       "    <tr>\n",
       "      <th>707873</th>\n",
       "      <td>Visakhapatnam</td>\n",
       "      <td>2020-06-30 23:00:00</td>\n",
       "      <td>15.75</td>\n",
       "      <td>63.00</td>\n",
       "      <td>1.02</td>\n",
       "      <td>28.90</td>\n",
       "      <td>16.00</td>\n",
       "      <td>3.80</td>\n",
       "      <td>0.49</td>\n",
       "      <td>0.75</td>\n",
       "      <td>15.82</td>\n",
       "      <td>NaN</td>\n",
       "      <td>NaN</td>\n",
       "      <td>NaN</td>\n",
       "      <td>50.0</td>\n",
       "      <td>Good</td>\n",
       "    </tr>\n",
       "    <tr>\n",
       "      <th>707874</th>\n",
       "      <td>Visakhapatnam</td>\n",
       "      <td>2020-07-01 00:00:00</td>\n",
       "      <td>15.00</td>\n",
       "      <td>66.00</td>\n",
       "      <td>0.40</td>\n",
       "      <td>26.85</td>\n",
       "      <td>14.05</td>\n",
       "      <td>5.20</td>\n",
       "      <td>0.59</td>\n",
       "      <td>2.10</td>\n",
       "      <td>17.05</td>\n",
       "      <td>NaN</td>\n",
       "      <td>NaN</td>\n",
       "      <td>NaN</td>\n",
       "      <td>50.0</td>\n",
       "      <td>Good</td>\n",
       "    </tr>\n",
       "  </tbody>\n",
       "</table>\n",
       "<p>707875 rows × 16 columns</p>\n",
       "</div>"
      ],
      "text/plain": [
       "                 City             Datetime  PM2.5   PM10    NO    NO2    NOx  \\\n",
       "0           Ahmedabad  2015-01-01 01:00:00    NaN    NaN  1.00  40.01  36.37   \n",
       "1           Ahmedabad  2015-01-01 02:00:00    NaN    NaN  0.02  27.75  19.73   \n",
       "2           Ahmedabad  2015-01-01 03:00:00    NaN    NaN  0.08  19.32  11.08   \n",
       "3           Ahmedabad  2015-01-01 04:00:00    NaN    NaN  0.30  16.45   9.20   \n",
       "4           Ahmedabad  2015-01-01 05:00:00    NaN    NaN  0.12  14.90   7.85   \n",
       "...               ...                  ...    ...    ...   ...    ...    ...   \n",
       "707870  Visakhapatnam  2020-06-30 20:00:00   9.50  36.00  2.75  25.57  15.85   \n",
       "707871  Visakhapatnam  2020-06-30 21:00:00  17.25  49.25  3.62  33.20  20.62   \n",
       "707872  Visakhapatnam  2020-06-30 22:00:00  36.00  71.00  2.20  30.80  18.20   \n",
       "707873  Visakhapatnam  2020-06-30 23:00:00  15.75  63.00  1.02  28.90  16.00   \n",
       "707874  Visakhapatnam  2020-07-01 00:00:00  15.00  66.00  0.40  26.85  14.05   \n",
       "\n",
       "         NH3    CO     SO2      O3  Benzene  Toluene  Xylene   AQI  \\\n",
       "0        NaN  1.00  122.07     NaN      0.0      0.0     0.0   NaN   \n",
       "1        NaN  0.02   85.90     NaN      0.0      0.0     0.0   NaN   \n",
       "2        NaN  0.08   52.83     NaN      0.0      0.0     0.0   NaN   \n",
       "3        NaN  0.30   39.53  153.58      0.0      0.0     0.0   NaN   \n",
       "4        NaN  0.12   32.63     NaN      0.0      0.0     0.0   NaN   \n",
       "...      ...   ...     ...     ...      ...      ...     ...   ...   \n",
       "707870  4.57  0.62     NaN   27.75      NaN      NaN     NaN  51.0   \n",
       "707871  3.78  0.76    2.02   25.58      NaN      NaN     NaN  51.0   \n",
       "707872  3.67  0.58    1.77   26.15      NaN      NaN     NaN  50.0   \n",
       "707873  3.80  0.49    0.75   15.82      NaN      NaN     NaN  50.0   \n",
       "707874  5.20  0.59    2.10   17.05      NaN      NaN     NaN  50.0   \n",
       "\n",
       "          AQI_Bucket  \n",
       "0                NaN  \n",
       "1                NaN  \n",
       "2                NaN  \n",
       "3                NaN  \n",
       "4                NaN  \n",
       "...              ...  \n",
       "707870  Satisfactory  \n",
       "707871  Satisfactory  \n",
       "707872          Good  \n",
       "707873          Good  \n",
       "707874          Good  \n",
       "\n",
       "[707875 rows x 16 columns]"
      ]
     },
     "execution_count": 4,
     "metadata": {},
     "output_type": "execute_result"
    }
   ],
   "source": [
    "df"
   ]
  },
  {
   "cell_type": "markdown",
   "metadata": {},
   "source": [
    "Seeing the dataset."
   ]
  },
  {
   "cell_type": "code",
   "execution_count": 5,
   "metadata": {},
   "outputs": [
    {
     "name": "stdout",
     "output_type": "stream",
     "text": [
      "<class 'pandas.core.frame.DataFrame'>\n",
      "RangeIndex: 707875 entries, 0 to 707874\n",
      "Data columns (total 16 columns):\n",
      " #   Column      Non-Null Count   Dtype  \n",
      "---  ------      --------------   -----  \n",
      " 0   City        707875 non-null  object \n",
      " 1   Datetime    707875 non-null  object \n",
      " 2   PM2.5       562787 non-null  float64\n",
      " 3   PM10        411138 non-null  float64\n",
      " 4   NO          591243 non-null  float64\n",
      " 5   NO2         590753 non-null  float64\n",
      " 6   NOx         584651 non-null  float64\n",
      " 7   NH3         435333 non-null  float64\n",
      " 8   CO          621358 non-null  float64\n",
      " 9   SO2         577502 non-null  float64\n",
      " 10  O3          578667 non-null  float64\n",
      " 11  Benzene     544229 non-null  float64\n",
      " 12  Toluene     487268 non-null  float64\n",
      " 13  Xylene      252046 non-null  float64\n",
      " 14  AQI         578795 non-null  float64\n",
      " 15  AQI_Bucket  578795 non-null  object \n",
      "dtypes: float64(13), object(3)\n",
      "memory usage: 86.4+ MB\n"
     ]
    }
   ],
   "source": [
    "df.info()"
   ]
  },
  {
   "cell_type": "code",
   "execution_count": 6,
   "metadata": {},
   "outputs": [
    {
     "data": {
      "text/plain": [
       "(707875, 16)"
      ]
     },
     "execution_count": 6,
     "metadata": {},
     "output_type": "execute_result"
    }
   ],
   "source": [
    "df.shape"
   ]
  },
  {
   "cell_type": "code",
   "execution_count": 7,
   "metadata": {},
   "outputs": [],
   "source": [
    "df[\"Datetime\"] = pd.to_datetime(df[\"Datetime\"])"
   ]
  },
  {
   "cell_type": "code",
   "execution_count": 8,
   "metadata": {},
   "outputs": [
    {
     "name": "stdout",
     "output_type": "stream",
     "text": [
      "<class 'pandas.core.frame.DataFrame'>\n",
      "RangeIndex: 707875 entries, 0 to 707874\n",
      "Data columns (total 16 columns):\n",
      " #   Column      Non-Null Count   Dtype         \n",
      "---  ------      --------------   -----         \n",
      " 0   City        707875 non-null  object        \n",
      " 1   Datetime    707875 non-null  datetime64[ns]\n",
      " 2   PM2.5       562787 non-null  float64       \n",
      " 3   PM10        411138 non-null  float64       \n",
      " 4   NO          591243 non-null  float64       \n",
      " 5   NO2         590753 non-null  float64       \n",
      " 6   NOx         584651 non-null  float64       \n",
      " 7   NH3         435333 non-null  float64       \n",
      " 8   CO          621358 non-null  float64       \n",
      " 9   SO2         577502 non-null  float64       \n",
      " 10  O3          578667 non-null  float64       \n",
      " 11  Benzene     544229 non-null  float64       \n",
      " 12  Toluene     487268 non-null  float64       \n",
      " 13  Xylene      252046 non-null  float64       \n",
      " 14  AQI         578795 non-null  float64       \n",
      " 15  AQI_Bucket  578795 non-null  object        \n",
      "dtypes: datetime64[ns](1), float64(13), object(2)\n",
      "memory usage: 86.4+ MB\n"
     ]
    }
   ],
   "source": [
    "df.info()"
   ]
  },
  {
   "cell_type": "markdown",
   "metadata": {},
   "source": [
    "Checking the missing values."
   ]
  },
  {
   "cell_type": "code",
   "execution_count": 9,
   "metadata": {},
   "outputs": [
    {
     "data": {
      "text/plain": [
       "City           0.000000\n",
       "Datetime       0.000000\n",
       "PM2.5         20.496274\n",
       "PM10          41.919407\n",
       "NO            16.476355\n",
       "NO2           16.545577\n",
       "NOx           17.407593\n",
       "NH3           38.501430\n",
       "CO            12.222073\n",
       "SO2           18.417517\n",
       "O3            18.252940\n",
       "Benzene       23.117923\n",
       "Toluene       31.164683\n",
       "Xylene        64.393996\n",
       "AQI           18.234858\n",
       "AQI_Bucket    18.234858\n",
       "dtype: float64"
      ]
     },
     "execution_count": 9,
     "metadata": {},
     "output_type": "execute_result"
    }
   ],
   "source": [
    "df.isnull().sum()/len(df)*100"
   ]
  },
  {
   "cell_type": "markdown",
   "metadata": {},
   "source": [
    "Checking the outliers then will fill the Nan values later."
   ]
  },
  {
   "cell_type": "code",
   "execution_count": 10,
   "metadata": {},
   "outputs": [
    {
     "data": {
      "text/html": [
       "<div>\n",
       "<style scoped>\n",
       "    .dataframe tbody tr th:only-of-type {\n",
       "        vertical-align: middle;\n",
       "    }\n",
       "\n",
       "    .dataframe tbody tr th {\n",
       "        vertical-align: top;\n",
       "    }\n",
       "\n",
       "    .dataframe thead th {\n",
       "        text-align: right;\n",
       "    }\n",
       "</style>\n",
       "<table border=\"1\" class=\"dataframe\">\n",
       "  <thead>\n",
       "    <tr style=\"text-align: right;\">\n",
       "      <th></th>\n",
       "      <th>Datetime</th>\n",
       "      <th>PM2.5</th>\n",
       "      <th>PM10</th>\n",
       "      <th>NO</th>\n",
       "      <th>NO2</th>\n",
       "      <th>NOx</th>\n",
       "      <th>NH3</th>\n",
       "      <th>CO</th>\n",
       "      <th>SO2</th>\n",
       "      <th>O3</th>\n",
       "      <th>Benzene</th>\n",
       "      <th>Toluene</th>\n",
       "      <th>Xylene</th>\n",
       "      <th>AQI</th>\n",
       "    </tr>\n",
       "  </thead>\n",
       "  <tbody>\n",
       "    <tr>\n",
       "      <th>count</th>\n",
       "      <td>707875</td>\n",
       "      <td>562787.000000</td>\n",
       "      <td>411138.000000</td>\n",
       "      <td>591243.000000</td>\n",
       "      <td>590753.000000</td>\n",
       "      <td>584651.000000</td>\n",
       "      <td>435333.000000</td>\n",
       "      <td>621358.000000</td>\n",
       "      <td>577502.000000</td>\n",
       "      <td>578667.000000</td>\n",
       "      <td>544229.000000</td>\n",
       "      <td>487268.000000</td>\n",
       "      <td>252046.000000</td>\n",
       "      <td>578795.000000</td>\n",
       "    </tr>\n",
       "    <tr>\n",
       "      <th>mean</th>\n",
       "      <td>2018-05-14 02:41:03.445098752</td>\n",
       "      <td>67.622994</td>\n",
       "      <td>119.075804</td>\n",
       "      <td>17.421755</td>\n",
       "      <td>28.885157</td>\n",
       "      <td>32.287565</td>\n",
       "      <td>23.607959</td>\n",
       "      <td>2.183539</td>\n",
       "      <td>14.038307</td>\n",
       "      <td>34.798979</td>\n",
       "      <td>3.087595</td>\n",
       "      <td>8.660927</td>\n",
       "      <td>3.130537</td>\n",
       "      <td>166.413500</td>\n",
       "    </tr>\n",
       "    <tr>\n",
       "      <th>min</th>\n",
       "      <td>2015-01-01 01:00:00</td>\n",
       "      <td>0.010000</td>\n",
       "      <td>0.010000</td>\n",
       "      <td>0.010000</td>\n",
       "      <td>0.010000</td>\n",
       "      <td>0.000000</td>\n",
       "      <td>0.010000</td>\n",
       "      <td>0.000000</td>\n",
       "      <td>0.010000</td>\n",
       "      <td>0.010000</td>\n",
       "      <td>0.000000</td>\n",
       "      <td>0.000000</td>\n",
       "      <td>0.000000</td>\n",
       "      <td>8.000000</td>\n",
       "    </tr>\n",
       "    <tr>\n",
       "      <th>25%</th>\n",
       "      <td>2017-04-15 23:00:00</td>\n",
       "      <td>26.200000</td>\n",
       "      <td>52.380000</td>\n",
       "      <td>3.840000</td>\n",
       "      <td>10.810000</td>\n",
       "      <td>10.660000</td>\n",
       "      <td>8.120000</td>\n",
       "      <td>0.420000</td>\n",
       "      <td>4.880000</td>\n",
       "      <td>13.420000</td>\n",
       "      <td>0.050000</td>\n",
       "      <td>0.370000</td>\n",
       "      <td>0.100000</td>\n",
       "      <td>79.000000</td>\n",
       "    </tr>\n",
       "    <tr>\n",
       "      <th>50%</th>\n",
       "      <td>2018-08-04 20:00:00</td>\n",
       "      <td>46.420000</td>\n",
       "      <td>91.500000</td>\n",
       "      <td>7.960000</td>\n",
       "      <td>20.320000</td>\n",
       "      <td>20.790000</td>\n",
       "      <td>15.380000</td>\n",
       "      <td>0.800000</td>\n",
       "      <td>8.370000</td>\n",
       "      <td>26.240000</td>\n",
       "      <td>0.860000</td>\n",
       "      <td>2.590000</td>\n",
       "      <td>0.790000</td>\n",
       "      <td>116.000000</td>\n",
       "    </tr>\n",
       "    <tr>\n",
       "      <th>75%</th>\n",
       "      <td>2019-09-02 14:00:00</td>\n",
       "      <td>79.490000</td>\n",
       "      <td>147.520000</td>\n",
       "      <td>16.150000</td>\n",
       "      <td>36.350000</td>\n",
       "      <td>37.150000</td>\n",
       "      <td>29.230000</td>\n",
       "      <td>1.370000</td>\n",
       "      <td>14.780000</td>\n",
       "      <td>47.620000</td>\n",
       "      <td>2.750000</td>\n",
       "      <td>8.410000</td>\n",
       "      <td>3.120000</td>\n",
       "      <td>208.000000</td>\n",
       "    </tr>\n",
       "    <tr>\n",
       "      <th>max</th>\n",
       "      <td>2020-07-01 00:00:00</td>\n",
       "      <td>999.990000</td>\n",
       "      <td>1000.000000</td>\n",
       "      <td>499.990000</td>\n",
       "      <td>499.510000</td>\n",
       "      <td>498.610000</td>\n",
       "      <td>499.970000</td>\n",
       "      <td>498.570000</td>\n",
       "      <td>199.960000</td>\n",
       "      <td>497.620000</td>\n",
       "      <td>498.070000</td>\n",
       "      <td>499.400000</td>\n",
       "      <td>499.990000</td>\n",
       "      <td>3133.000000</td>\n",
       "    </tr>\n",
       "    <tr>\n",
       "      <th>std</th>\n",
       "      <td>NaN</td>\n",
       "      <td>74.730496</td>\n",
       "      <td>104.224752</td>\n",
       "      <td>32.095211</td>\n",
       "      <td>29.162194</td>\n",
       "      <td>39.756669</td>\n",
       "      <td>28.831900</td>\n",
       "      <td>10.970514</td>\n",
       "      <td>19.305540</td>\n",
       "      <td>29.806379</td>\n",
       "      <td>16.456599</td>\n",
       "      <td>21.741023</td>\n",
       "      <td>7.834832</td>\n",
       "      <td>162.112729</td>\n",
       "    </tr>\n",
       "  </tbody>\n",
       "</table>\n",
       "</div>"
      ],
      "text/plain": [
       "                            Datetime          PM2.5           PM10  \\\n",
       "count                         707875  562787.000000  411138.000000   \n",
       "mean   2018-05-14 02:41:03.445098752      67.622994     119.075804   \n",
       "min              2015-01-01 01:00:00       0.010000       0.010000   \n",
       "25%              2017-04-15 23:00:00      26.200000      52.380000   \n",
       "50%              2018-08-04 20:00:00      46.420000      91.500000   \n",
       "75%              2019-09-02 14:00:00      79.490000     147.520000   \n",
       "max              2020-07-01 00:00:00     999.990000    1000.000000   \n",
       "std                              NaN      74.730496     104.224752   \n",
       "\n",
       "                  NO            NO2            NOx            NH3  \\\n",
       "count  591243.000000  590753.000000  584651.000000  435333.000000   \n",
       "mean       17.421755      28.885157      32.287565      23.607959   \n",
       "min         0.010000       0.010000       0.000000       0.010000   \n",
       "25%         3.840000      10.810000      10.660000       8.120000   \n",
       "50%         7.960000      20.320000      20.790000      15.380000   \n",
       "75%        16.150000      36.350000      37.150000      29.230000   \n",
       "max       499.990000     499.510000     498.610000     499.970000   \n",
       "std        32.095211      29.162194      39.756669      28.831900   \n",
       "\n",
       "                  CO            SO2             O3        Benzene  \\\n",
       "count  621358.000000  577502.000000  578667.000000  544229.000000   \n",
       "mean        2.183539      14.038307      34.798979       3.087595   \n",
       "min         0.000000       0.010000       0.010000       0.000000   \n",
       "25%         0.420000       4.880000      13.420000       0.050000   \n",
       "50%         0.800000       8.370000      26.240000       0.860000   \n",
       "75%         1.370000      14.780000      47.620000       2.750000   \n",
       "max       498.570000     199.960000     497.620000     498.070000   \n",
       "std        10.970514      19.305540      29.806379      16.456599   \n",
       "\n",
       "             Toluene         Xylene            AQI  \n",
       "count  487268.000000  252046.000000  578795.000000  \n",
       "mean        8.660927       3.130537     166.413500  \n",
       "min         0.000000       0.000000       8.000000  \n",
       "25%         0.370000       0.100000      79.000000  \n",
       "50%         2.590000       0.790000     116.000000  \n",
       "75%         8.410000       3.120000     208.000000  \n",
       "max       499.400000     499.990000    3133.000000  \n",
       "std        21.741023       7.834832     162.112729  "
      ]
     },
     "execution_count": 10,
     "metadata": {},
     "output_type": "execute_result"
    }
   ],
   "source": [
    "df.describe()"
   ]
  },
  {
   "cell_type": "markdown",
   "metadata": {},
   "source": [
    "Now, if mean> median then heavy outlier else median> mean then it is somewhat acceptable.\n",
    "So, there are some columns that have more than acceptable mean than median whcih are PM2.5, PM10, NOx, AQI .\n",
    "But they might be relevant as due to diwali, weather changes etc.\n",
    "Lets understand these columns."
   ]
  },
  {
   "cell_type": "code",
   "execution_count": 11,
   "metadata": {},
   "outputs": [],
   "source": [
    "df2  = df.copy()"
   ]
  },
  {
   "cell_type": "code",
   "execution_count": 12,
   "metadata": {},
   "outputs": [
    {
     "data": {
      "text/html": [
       "<div>\n",
       "<style scoped>\n",
       "    .dataframe tbody tr th:only-of-type {\n",
       "        vertical-align: middle;\n",
       "    }\n",
       "\n",
       "    .dataframe tbody tr th {\n",
       "        vertical-align: top;\n",
       "    }\n",
       "\n",
       "    .dataframe thead th {\n",
       "        text-align: right;\n",
       "    }\n",
       "</style>\n",
       "<table border=\"1\" class=\"dataframe\">\n",
       "  <thead>\n",
       "    <tr style=\"text-align: right;\">\n",
       "      <th></th>\n",
       "      <th>City</th>\n",
       "      <th>Datetime</th>\n",
       "      <th>PM2.5</th>\n",
       "      <th>PM10</th>\n",
       "      <th>NO</th>\n",
       "      <th>NO2</th>\n",
       "      <th>NOx</th>\n",
       "      <th>NH3</th>\n",
       "      <th>CO</th>\n",
       "      <th>SO2</th>\n",
       "      <th>O3</th>\n",
       "      <th>Benzene</th>\n",
       "      <th>Toluene</th>\n",
       "      <th>Xylene</th>\n",
       "      <th>AQI</th>\n",
       "      <th>AQI_Bucket</th>\n",
       "    </tr>\n",
       "  </thead>\n",
       "  <tbody>\n",
       "    <tr>\n",
       "      <th>273798</th>\n",
       "      <td>Delhi</td>\n",
       "      <td>2018-04-07 19:00:00</td>\n",
       "      <td>44.48</td>\n",
       "      <td>116.67</td>\n",
       "      <td>15.08</td>\n",
       "      <td>49.99</td>\n",
       "      <td>55.95</td>\n",
       "      <td>47.55</td>\n",
       "      <td>1.23</td>\n",
       "      <td>10.14</td>\n",
       "      <td>68.09</td>\n",
       "      <td>1.25</td>\n",
       "      <td>3.33</td>\n",
       "      <td>0.00</td>\n",
       "      <td>147.0</td>\n",
       "      <td>Moderate</td>\n",
       "    </tr>\n",
       "    <tr>\n",
       "      <th>86394</th>\n",
       "      <td>Amritsar</td>\n",
       "      <td>2018-08-12 06:00:00</td>\n",
       "      <td>NaN</td>\n",
       "      <td>31.21</td>\n",
       "      <td>5.84</td>\n",
       "      <td>7.83</td>\n",
       "      <td>13.66</td>\n",
       "      <td>7.35</td>\n",
       "      <td>NaN</td>\n",
       "      <td>6.69</td>\n",
       "      <td>24.01</td>\n",
       "      <td>2.06</td>\n",
       "      <td>1.77</td>\n",
       "      <td>12.10</td>\n",
       "      <td>32.0</td>\n",
       "      <td>Good</td>\n",
       "    </tr>\n",
       "    <tr>\n",
       "      <th>288047</th>\n",
       "      <td>Delhi</td>\n",
       "      <td>2019-11-22 12:00:00</td>\n",
       "      <td>192.07</td>\n",
       "      <td>316.48</td>\n",
       "      <td>22.98</td>\n",
       "      <td>73.90</td>\n",
       "      <td>63.92</td>\n",
       "      <td>45.55</td>\n",
       "      <td>1.43</td>\n",
       "      <td>18.33</td>\n",
       "      <td>71.02</td>\n",
       "      <td>5.77</td>\n",
       "      <td>33.65</td>\n",
       "      <td>1.53</td>\n",
       "      <td>374.0</td>\n",
       "      <td>Very Poor</td>\n",
       "    </tr>\n",
       "    <tr>\n",
       "      <th>365582</th>\n",
       "      <td>Hyderabad</td>\n",
       "      <td>2016-11-05 16:00:00</td>\n",
       "      <td>47.50</td>\n",
       "      <td>84.75</td>\n",
       "      <td>8.85</td>\n",
       "      <td>11.55</td>\n",
       "      <td>6.12</td>\n",
       "      <td>8.12</td>\n",
       "      <td>0.07</td>\n",
       "      <td>15.50</td>\n",
       "      <td>92.20</td>\n",
       "      <td>0.02</td>\n",
       "      <td>0.57</td>\n",
       "      <td>0.12</td>\n",
       "      <td>137.0</td>\n",
       "      <td>Moderate</td>\n",
       "    </tr>\n",
       "    <tr>\n",
       "      <th>245324</th>\n",
       "      <td>Delhi</td>\n",
       "      <td>2015-01-07 09:00:00</td>\n",
       "      <td>206.25</td>\n",
       "      <td>379.69</td>\n",
       "      <td>41.52</td>\n",
       "      <td>37.46</td>\n",
       "      <td>64.79</td>\n",
       "      <td>133.94</td>\n",
       "      <td>8.34</td>\n",
       "      <td>5.59</td>\n",
       "      <td>34.63</td>\n",
       "      <td>6.11</td>\n",
       "      <td>10.42</td>\n",
       "      <td>5.15</td>\n",
       "      <td>343.0</td>\n",
       "      <td>Very Poor</td>\n",
       "    </tr>\n",
       "  </tbody>\n",
       "</table>\n",
       "</div>"
      ],
      "text/plain": [
       "             City            Datetime   PM2.5    PM10     NO    NO2    NOx  \\\n",
       "273798      Delhi 2018-04-07 19:00:00   44.48  116.67  15.08  49.99  55.95   \n",
       "86394    Amritsar 2018-08-12 06:00:00     NaN   31.21   5.84   7.83  13.66   \n",
       "288047      Delhi 2019-11-22 12:00:00  192.07  316.48  22.98  73.90  63.92   \n",
       "365582  Hyderabad 2016-11-05 16:00:00   47.50   84.75   8.85  11.55   6.12   \n",
       "245324      Delhi 2015-01-07 09:00:00  206.25  379.69  41.52  37.46  64.79   \n",
       "\n",
       "           NH3    CO    SO2     O3  Benzene  Toluene  Xylene    AQI AQI_Bucket  \n",
       "273798   47.55  1.23  10.14  68.09     1.25     3.33    0.00  147.0   Moderate  \n",
       "86394     7.35   NaN   6.69  24.01     2.06     1.77   12.10   32.0       Good  \n",
       "288047   45.55  1.43  18.33  71.02     5.77    33.65    1.53  374.0  Very Poor  \n",
       "365582    8.12  0.07  15.50  92.20     0.02     0.57    0.12  137.0   Moderate  \n",
       "245324  133.94  8.34   5.59  34.63     6.11    10.42    5.15  343.0  Very Poor  "
      ]
     },
     "execution_count": 12,
     "metadata": {},
     "output_type": "execute_result"
    }
   ],
   "source": [
    "df2.sample(5)"
   ]
  },
  {
   "cell_type": "code",
   "execution_count": 13,
   "metadata": {},
   "outputs": [],
   "source": [
    "df2[\"Month\"] = df[\"Datetime\"].dt.month"
   ]
  },
  {
   "cell_type": "code",
   "execution_count": 14,
   "metadata": {},
   "outputs": [
    {
     "data": {
      "text/plain": [
       "<Axes: ylabel='PM2.5'>"
      ]
     },
     "execution_count": 14,
     "metadata": {},
     "output_type": "execute_result"
    },
    {
     "data": {
      "image/png": "[encoded data removed]",
      "text/plain": [
       "<Figure size 640x480 with 1 Axes>"
      ]
     },
     "metadata": {},
     "output_type": "display_data"
    }
   ],
   "source": [
    "sns.boxplot(df2[\"PM2.5\"])"
   ]
  },
  {
   "cell_type": "code",
   "execution_count": 15,
   "metadata": {},
   "outputs": [
    {
     "data": {
      "text/plain": [
       "<Axes: ylabel='PM10'>"
      ]
     },
     "execution_count": 15,
     "metadata": {},
     "output_type": "execute_result"
    },
    {
     "data": {
      "image/png": "[encoded data removed]",
      "text/plain": [
       "<Figure size 640x480 with 1 Axes>"
      ]
     },
     "metadata": {},
     "output_type": "display_data"
    }
   ],
   "source": [
    "sns.boxplot(df2[\"PM10\"])"
   ]
  },
  {
   "cell_type": "code",
   "execution_count": 16,
   "metadata": {},
   "outputs": [
    {
     "data": {
      "text/plain": [
       "<Axes: ylabel='AQI'>"
      ]
     },
     "execution_count": 16,
     "metadata": {},
     "output_type": "execute_result"
    },
    {
     "data": {
      "image/png": "[encoded data removed]",
      "text/plain": [
       "<Figure size 640x480 with 1 Axes>"
      ]
     },
     "metadata": {},
     "output_type": "display_data"
    }
   ],
   "source": [
    "sns.boxplot(df2[\"AQI\"])"
   ]
  },
  {
   "cell_type": "code",
   "execution_count": 17,
   "metadata": {},
   "outputs": [
    {
     "data": {
      "text/plain": [
       "<Axes: ylabel='NOx'>"
      ]
     },
     "execution_count": 17,
     "metadata": {},
     "output_type": "execute_result"
    },
    {
     "data": {
      "image/png": "[encoded data removed]",
      "text/plain": [
       "<Figure size 640x480 with 1 Axes>"
      ]
     },
     "metadata": {},
     "output_type": "display_data"
    }
   ],
   "source": [
    "sns.boxplot(df2[\"NOx\"])"
   ]
  },
  {
   "cell_type": "markdown",
   "metadata": {},
   "source": [
    "As we can see with the boxplots there are plenty of extreme values in our dataset."
   ]
  },
  {
   "cell_type": "markdown",
   "metadata": {},
   "source": [
    "Lets create upper and lower limit using the 3 Standard Deviation technique."
   ]
  },
  {
   "cell_type": "code",
   "execution_count": 18,
   "metadata": {},
   "outputs": [
    {
     "data": {
      "text/plain": [
       "498.61"
      ]
     },
     "execution_count": 18,
     "metadata": {},
     "output_type": "execute_result"
    }
   ],
   "source": [
    "df2[\"NOx\"].max()"
   ]
  },
  {
   "cell_type": "code",
   "execution_count": 19,
   "metadata": {},
   "outputs": [
    {
     "data": {
      "text/plain": [
       "1000.0"
      ]
     },
     "execution_count": 19,
     "metadata": {},
     "output_type": "execute_result"
    }
   ],
   "source": [
    "df2[\"PM10\"].max()"
   ]
  },
  {
   "cell_type": "code",
   "execution_count": 20,
   "metadata": {},
   "outputs": [
    {
     "data": {
      "text/plain": [
       "999.99"
      ]
     },
     "execution_count": 20,
     "metadata": {},
     "output_type": "execute_result"
    }
   ],
   "source": [
    "df2[\"PM2.5\"].max()"
   ]
  },
  {
   "cell_type": "code",
   "execution_count": 21,
   "metadata": {},
   "outputs": [
    {
     "data": {
      "text/plain": [
       "3133.0"
      ]
     },
     "execution_count": 21,
     "metadata": {},
     "output_type": "execute_result"
    }
   ],
   "source": [
    "df2[\"AQI\"].max()"
   ]
  },
  {
   "cell_type": "code",
   "execution_count": 22,
   "metadata": {},
   "outputs": [],
   "source": [
    "upper_limit = df2[\"PM2.5\"].mean() + 3*df2[\"PM2.5\"].std()\n",
    "lower_limit = df2[\"PM2.5\"].mean() - 3+df2[\"PM2.5\"].std()"
   ]
  },
  {
   "cell_type": "code",
   "execution_count": 23,
   "metadata": {},
   "outputs": [
    {
     "data": {
      "text/plain": [
       "291.8144819600776"
      ]
     },
     "execution_count": 23,
     "metadata": {},
     "output_type": "execute_result"
    }
   ],
   "source": [
    "upper_limit "
   ]
  },
  {
   "cell_type": "code",
   "execution_count": 24,
   "metadata": {},
   "outputs": [
    {
     "data": {
      "text/plain": [
       "139.3534898276294"
      ]
     },
     "execution_count": 24,
     "metadata": {},
     "output_type": "execute_result"
    }
   ],
   "source": [
    "lower_limit"
   ]
  },
  {
   "cell_type": "markdown",
   "metadata": {},
   "source": [
    "As we can see we have the upper limit and lower limit of the PM2.5. Now, these values might be relevant to the dataset as we are dealing\n",
    "with the air quality which in some cases might be extreme."
   ]
  },
  {
   "cell_type": "code",
   "execution_count": 25,
   "metadata": {},
   "outputs": [
    {
     "data": {
      "text/html": [
       "<div>\n",
       "<style scoped>\n",
       "    .dataframe tbody tr th:only-of-type {\n",
       "        vertical-align: middle;\n",
       "    }\n",
       "\n",
       "    .dataframe tbody tr th {\n",
       "        vertical-align: top;\n",
       "    }\n",
       "\n",
       "    .dataframe thead th {\n",
       "        text-align: right;\n",
       "    }\n",
       "</style>\n",
       "<table border=\"1\" class=\"dataframe\">\n",
       "  <thead>\n",
       "    <tr style=\"text-align: right;\">\n",
       "      <th></th>\n",
       "      <th>City</th>\n",
       "      <th>Datetime</th>\n",
       "      <th>PM2.5</th>\n",
       "      <th>PM10</th>\n",
       "      <th>NO</th>\n",
       "      <th>NO2</th>\n",
       "      <th>NOx</th>\n",
       "      <th>NH3</th>\n",
       "      <th>CO</th>\n",
       "      <th>SO2</th>\n",
       "      <th>O3</th>\n",
       "      <th>Benzene</th>\n",
       "      <th>Toluene</th>\n",
       "      <th>Xylene</th>\n",
       "      <th>AQI</th>\n",
       "      <th>AQI_Bucket</th>\n",
       "      <th>Month</th>\n",
       "    </tr>\n",
       "  </thead>\n",
       "  <tbody>\n",
       "    <tr>\n",
       "      <th>665</th>\n",
       "      <td>Ahmedabad</td>\n",
       "      <td>2015-01-28 18:00:00</td>\n",
       "      <td>36.60</td>\n",
       "      <td>NaN</td>\n",
       "      <td>0.48</td>\n",
       "      <td>13.58</td>\n",
       "      <td>13.67</td>\n",
       "      <td>NaN</td>\n",
       "      <td>0.48</td>\n",
       "      <td>25.06</td>\n",
       "      <td>87.20</td>\n",
       "      <td>0.00</td>\n",
       "      <td>0.0</td>\n",
       "      <td>0.00</td>\n",
       "      <td>NaN</td>\n",
       "      <td>NaN</td>\n",
       "      <td>1</td>\n",
       "    </tr>\n",
       "    <tr>\n",
       "      <th>666</th>\n",
       "      <td>Ahmedabad</td>\n",
       "      <td>2015-01-28 19:00:00</td>\n",
       "      <td>40.63</td>\n",
       "      <td>NaN</td>\n",
       "      <td>0.77</td>\n",
       "      <td>25.43</td>\n",
       "      <td>29.27</td>\n",
       "      <td>NaN</td>\n",
       "      <td>0.77</td>\n",
       "      <td>73.37</td>\n",
       "      <td>53.17</td>\n",
       "      <td>0.00</td>\n",
       "      <td>0.0</td>\n",
       "      <td>0.48</td>\n",
       "      <td>NaN</td>\n",
       "      <td>NaN</td>\n",
       "      <td>1</td>\n",
       "    </tr>\n",
       "    <tr>\n",
       "      <th>667</th>\n",
       "      <td>Ahmedabad</td>\n",
       "      <td>2015-01-28 20:00:00</td>\n",
       "      <td>57.07</td>\n",
       "      <td>NaN</td>\n",
       "      <td>5.35</td>\n",
       "      <td>44.17</td>\n",
       "      <td>54.60</td>\n",
       "      <td>NaN</td>\n",
       "      <td>5.35</td>\n",
       "      <td>79.28</td>\n",
       "      <td>28.46</td>\n",
       "      <td>0.45</td>\n",
       "      <td>0.0</td>\n",
       "      <td>2.93</td>\n",
       "      <td>NaN</td>\n",
       "      <td>NaN</td>\n",
       "      <td>1</td>\n",
       "    </tr>\n",
       "    <tr>\n",
       "      <th>668</th>\n",
       "      <td>Ahmedabad</td>\n",
       "      <td>2015-01-28 21:00:00</td>\n",
       "      <td>81.30</td>\n",
       "      <td>NaN</td>\n",
       "      <td>23.23</td>\n",
       "      <td>47.66</td>\n",
       "      <td>75.67</td>\n",
       "      <td>NaN</td>\n",
       "      <td>23.23</td>\n",
       "      <td>50.19</td>\n",
       "      <td>30.83</td>\n",
       "      <td>0.27</td>\n",
       "      <td>0.0</td>\n",
       "      <td>5.82</td>\n",
       "      <td>NaN</td>\n",
       "      <td>NaN</td>\n",
       "      <td>1</td>\n",
       "    </tr>\n",
       "    <tr>\n",
       "      <th>669</th>\n",
       "      <td>Ahmedabad</td>\n",
       "      <td>2015-01-28 22:00:00</td>\n",
       "      <td>105.53</td>\n",
       "      <td>NaN</td>\n",
       "      <td>43.73</td>\n",
       "      <td>45.93</td>\n",
       "      <td>94.58</td>\n",
       "      <td>NaN</td>\n",
       "      <td>43.73</td>\n",
       "      <td>31.99</td>\n",
       "      <td>53.83</td>\n",
       "      <td>0.00</td>\n",
       "      <td>0.0</td>\n",
       "      <td>6.60</td>\n",
       "      <td>NaN</td>\n",
       "      <td>NaN</td>\n",
       "      <td>1</td>\n",
       "    </tr>\n",
       "    <tr>\n",
       "      <th>...</th>\n",
       "      <td>...</td>\n",
       "      <td>...</td>\n",
       "      <td>...</td>\n",
       "      <td>...</td>\n",
       "      <td>...</td>\n",
       "      <td>...</td>\n",
       "      <td>...</td>\n",
       "      <td>...</td>\n",
       "      <td>...</td>\n",
       "      <td>...</td>\n",
       "      <td>...</td>\n",
       "      <td>...</td>\n",
       "      <td>...</td>\n",
       "      <td>...</td>\n",
       "      <td>...</td>\n",
       "      <td>...</td>\n",
       "      <td>...</td>\n",
       "    </tr>\n",
       "    <tr>\n",
       "      <th>707870</th>\n",
       "      <td>Visakhapatnam</td>\n",
       "      <td>2020-06-30 20:00:00</td>\n",
       "      <td>9.50</td>\n",
       "      <td>36.00</td>\n",
       "      <td>2.75</td>\n",
       "      <td>25.57</td>\n",
       "      <td>15.85</td>\n",
       "      <td>4.57</td>\n",
       "      <td>0.62</td>\n",
       "      <td>NaN</td>\n",
       "      <td>27.75</td>\n",
       "      <td>NaN</td>\n",
       "      <td>NaN</td>\n",
       "      <td>NaN</td>\n",
       "      <td>51.0</td>\n",
       "      <td>Satisfactory</td>\n",
       "      <td>6</td>\n",
       "    </tr>\n",
       "    <tr>\n",
       "      <th>707871</th>\n",
       "      <td>Visakhapatnam</td>\n",
       "      <td>2020-06-30 21:00:00</td>\n",
       "      <td>17.25</td>\n",
       "      <td>49.25</td>\n",
       "      <td>3.62</td>\n",
       "      <td>33.20</td>\n",
       "      <td>20.62</td>\n",
       "      <td>3.78</td>\n",
       "      <td>0.76</td>\n",
       "      <td>2.02</td>\n",
       "      <td>25.58</td>\n",
       "      <td>NaN</td>\n",
       "      <td>NaN</td>\n",
       "      <td>NaN</td>\n",
       "      <td>51.0</td>\n",
       "      <td>Satisfactory</td>\n",
       "      <td>6</td>\n",
       "    </tr>\n",
       "    <tr>\n",
       "      <th>707872</th>\n",
       "      <td>Visakhapatnam</td>\n",
       "      <td>2020-06-30 22:00:00</td>\n",
       "      <td>36.00</td>\n",
       "      <td>71.00</td>\n",
       "      <td>2.20</td>\n",
       "      <td>30.80</td>\n",
       "      <td>18.20</td>\n",
       "      <td>3.67</td>\n",
       "      <td>0.58</td>\n",
       "      <td>1.77</td>\n",
       "      <td>26.15</td>\n",
       "      <td>NaN</td>\n",
       "      <td>NaN</td>\n",
       "      <td>NaN</td>\n",
       "      <td>50.0</td>\n",
       "      <td>Good</td>\n",
       "      <td>6</td>\n",
       "    </tr>\n",
       "    <tr>\n",
       "      <th>707873</th>\n",
       "      <td>Visakhapatnam</td>\n",
       "      <td>2020-06-30 23:00:00</td>\n",
       "      <td>15.75</td>\n",
       "      <td>63.00</td>\n",
       "      <td>1.02</td>\n",
       "      <td>28.90</td>\n",
       "      <td>16.00</td>\n",
       "      <td>3.80</td>\n",
       "      <td>0.49</td>\n",
       "      <td>0.75</td>\n",
       "      <td>15.82</td>\n",
       "      <td>NaN</td>\n",
       "      <td>NaN</td>\n",
       "      <td>NaN</td>\n",
       "      <td>50.0</td>\n",
       "      <td>Good</td>\n",
       "      <td>6</td>\n",
       "    </tr>\n",
       "    <tr>\n",
       "      <th>707874</th>\n",
       "      <td>Visakhapatnam</td>\n",
       "      <td>2020-07-01 00:00:00</td>\n",
       "      <td>15.00</td>\n",
       "      <td>66.00</td>\n",
       "      <td>0.40</td>\n",
       "      <td>26.85</td>\n",
       "      <td>14.05</td>\n",
       "      <td>5.20</td>\n",
       "      <td>0.59</td>\n",
       "      <td>2.10</td>\n",
       "      <td>17.05</td>\n",
       "      <td>NaN</td>\n",
       "      <td>NaN</td>\n",
       "      <td>NaN</td>\n",
       "      <td>50.0</td>\n",
       "      <td>Good</td>\n",
       "      <td>7</td>\n",
       "    </tr>\n",
       "  </tbody>\n",
       "</table>\n",
       "<p>515560 rows × 17 columns</p>\n",
       "</div>"
      ],
      "text/plain": [
       "                 City            Datetime   PM2.5   PM10     NO    NO2    NOx  \\\n",
       "665         Ahmedabad 2015-01-28 18:00:00   36.60    NaN   0.48  13.58  13.67   \n",
       "666         Ahmedabad 2015-01-28 19:00:00   40.63    NaN   0.77  25.43  29.27   \n",
       "667         Ahmedabad 2015-01-28 20:00:00   57.07    NaN   5.35  44.17  54.60   \n",
       "668         Ahmedabad 2015-01-28 21:00:00   81.30    NaN  23.23  47.66  75.67   \n",
       "669         Ahmedabad 2015-01-28 22:00:00  105.53    NaN  43.73  45.93  94.58   \n",
       "...               ...                 ...     ...    ...    ...    ...    ...   \n",
       "707870  Visakhapatnam 2020-06-30 20:00:00    9.50  36.00   2.75  25.57  15.85   \n",
       "707871  Visakhapatnam 2020-06-30 21:00:00   17.25  49.25   3.62  33.20  20.62   \n",
       "707872  Visakhapatnam 2020-06-30 22:00:00   36.00  71.00   2.20  30.80  18.20   \n",
       "707873  Visakhapatnam 2020-06-30 23:00:00   15.75  63.00   1.02  28.90  16.00   \n",
       "707874  Visakhapatnam 2020-07-01 00:00:00   15.00  66.00   0.40  26.85  14.05   \n",
       "\n",
       "         NH3     CO    SO2     O3  Benzene  Toluene  Xylene   AQI  \\\n",
       "665      NaN   0.48  25.06  87.20     0.00      0.0    0.00   NaN   \n",
       "666      NaN   0.77  73.37  53.17     0.00      0.0    0.48   NaN   \n",
       "667      NaN   5.35  79.28  28.46     0.45      0.0    2.93   NaN   \n",
       "668      NaN  23.23  50.19  30.83     0.27      0.0    5.82   NaN   \n",
       "669      NaN  43.73  31.99  53.83     0.00      0.0    6.60   NaN   \n",
       "...      ...    ...    ...    ...      ...      ...     ...   ...   \n",
       "707870  4.57   0.62    NaN  27.75      NaN      NaN     NaN  51.0   \n",
       "707871  3.78   0.76   2.02  25.58      NaN      NaN     NaN  51.0   \n",
       "707872  3.67   0.58   1.77  26.15      NaN      NaN     NaN  50.0   \n",
       "707873  3.80   0.49   0.75  15.82      NaN      NaN     NaN  50.0   \n",
       "707874  5.20   0.59   2.10  17.05      NaN      NaN     NaN  50.0   \n",
       "\n",
       "          AQI_Bucket  Month  \n",
       "665              NaN      1  \n",
       "666              NaN      1  \n",
       "667              NaN      1  \n",
       "668              NaN      1  \n",
       "669              NaN      1  \n",
       "...              ...    ...  \n",
       "707870  Satisfactory      6  \n",
       "707871  Satisfactory      6  \n",
       "707872          Good      6  \n",
       "707873          Good      6  \n",
       "707874          Good      7  \n",
       "\n",
       "[515560 rows x 17 columns]"
      ]
     },
     "execution_count": 25,
     "metadata": {},
     "output_type": "execute_result"
    }
   ],
   "source": [
    "df2[(df2[\"PM2.5\"]>upper_limit) | (df2[\"PM2.5\"]<lower_limit)]  "
   ]
  },
  {
   "cell_type": "code",
   "execution_count": 26,
   "metadata": {},
   "outputs": [],
   "source": [
    "del lower_limit, upper_limit"
   ]
  },
  {
   "cell_type": "markdown",
   "metadata": {},
   "source": [
    "Here there are about 5Lakh+ datapoints which are outliers. But, if i remove these it will not be suitable towards the dataset as it will \n",
    "create a significant impact on the datset."
   ]
  },
  {
   "cell_type": "markdown",
   "metadata": {},
   "source": [
    "Using the 3std technique, it will also be the same or similar to other features."
   ]
  },
  {
   "cell_type": "code",
   "execution_count": 27,
   "metadata": {},
   "outputs": [
    {
     "data": {
      "image/png": "[encoded data removed]",
      "text/plain": [
       "<Figure size 1200x600 with 1 Axes>"
      ]
     },
     "metadata": {},
     "output_type": "display_data"
    }
   ],
   "source": [
    "# Melt the data for easier plotting\n",
    "melted_df = df2.melt(id_vars=['Month'], value_vars=['PM10', 'PM2.5', 'NOx' , 'AQI'], \n",
    "                    var_name='Pollutant', value_name='Concentration')\n",
    "\n",
    "# Boxplot to visualize outliers by month\n",
    "plt.figure(figsize=(12, 6))\n",
    "sns.boxplot(data=melted_df, x='Month', y='Concentration', hue='Pollutant')\n",
    "plt.title('Pollution Levels by Month with Outliers')\n",
    "plt.xlabel('Month')\n",
    "plt.ylabel('Concentration')\n",
    "plt.legend(title='Pollutant')\n",
    "plt.show()\n"
   ]
  },
  {
   "cell_type": "markdown",
   "metadata": {},
   "source": [
    "With this we can clearly see all the outliers of our given features"
   ]
  },
  {
   "cell_type": "markdown",
   "metadata": {},
   "source": [
    "Lets take a call and cap the necessary values"
   ]
  },
  {
   "cell_type": "code",
   "execution_count": 28,
   "metadata": {},
   "outputs": [],
   "source": [
    "df2 = df2[df2[\"AQI\"]<=1000]"
   ]
  },
  {
   "cell_type": "code",
   "execution_count": 29,
   "metadata": {},
   "outputs": [],
   "source": [
    "df2 = df2[df2[\"PM10\"] <= 600]"
   ]
  },
  {
   "cell_type": "code",
   "execution_count": 30,
   "metadata": {},
   "outputs": [],
   "source": [
    "df2 = df2[df2[\"PM2.5\"] <= 700]"
   ]
  },
  {
   "cell_type": "code",
   "execution_count": 31,
   "metadata": {},
   "outputs": [],
   "source": [
    "df2 = df2[df2[\"NOx\"] <= 400]"
   ]
  },
  {
   "cell_type": "markdown",
   "metadata": {},
   "source": [
    "So far we have almost handled the extreme values."
   ]
  },
  {
   "cell_type": "code",
   "execution_count": 32,
   "metadata": {},
   "outputs": [
    {
     "data": {
      "text/html": [
       "<div>\n",
       "<style scoped>\n",
       "    .dataframe tbody tr th:only-of-type {\n",
       "        vertical-align: middle;\n",
       "    }\n",
       "\n",
       "    .dataframe tbody tr th {\n",
       "        vertical-align: top;\n",
       "    }\n",
       "\n",
       "    .dataframe thead th {\n",
       "        text-align: right;\n",
       "    }\n",
       "</style>\n",
       "<table border=\"1\" class=\"dataframe\">\n",
       "  <thead>\n",
       "    <tr style=\"text-align: right;\">\n",
       "      <th></th>\n",
       "      <th>City</th>\n",
       "      <th>Datetime</th>\n",
       "      <th>PM2.5</th>\n",
       "      <th>PM10</th>\n",
       "      <th>NO</th>\n",
       "      <th>NO2</th>\n",
       "      <th>NOx</th>\n",
       "      <th>NH3</th>\n",
       "      <th>CO</th>\n",
       "      <th>SO2</th>\n",
       "      <th>O3</th>\n",
       "      <th>Benzene</th>\n",
       "      <th>Toluene</th>\n",
       "      <th>Xylene</th>\n",
       "      <th>AQI</th>\n",
       "      <th>AQI_Bucket</th>\n",
       "      <th>Month</th>\n",
       "    </tr>\n",
       "  </thead>\n",
       "  <tbody>\n",
       "    <tr>\n",
       "      <th>38289</th>\n",
       "      <td>Ahmedabad</td>\n",
       "      <td>2019-05-15 10:00:00</td>\n",
       "      <td>25.91</td>\n",
       "      <td>84.90</td>\n",
       "      <td>13.85</td>\n",
       "      <td>58.41</td>\n",
       "      <td>44.29</td>\n",
       "      <td>NaN</td>\n",
       "      <td>13.85</td>\n",
       "      <td>140.10</td>\n",
       "      <td>47.69</td>\n",
       "      <td>16.60</td>\n",
       "      <td>83.44</td>\n",
       "      <td>12.12</td>\n",
       "      <td>255.0</td>\n",
       "      <td>Poor</td>\n",
       "      <td>5</td>\n",
       "    </tr>\n",
       "    <tr>\n",
       "      <th>38290</th>\n",
       "      <td>Ahmedabad</td>\n",
       "      <td>2019-05-15 11:00:00</td>\n",
       "      <td>27.27</td>\n",
       "      <td>98.29</td>\n",
       "      <td>11.30</td>\n",
       "      <td>71.93</td>\n",
       "      <td>47.98</td>\n",
       "      <td>NaN</td>\n",
       "      <td>11.30</td>\n",
       "      <td>144.20</td>\n",
       "      <td>71.96</td>\n",
       "      <td>13.39</td>\n",
       "      <td>80.38</td>\n",
       "      <td>10.83</td>\n",
       "      <td>255.0</td>\n",
       "      <td>Poor</td>\n",
       "      <td>5</td>\n",
       "    </tr>\n",
       "    <tr>\n",
       "      <th>38291</th>\n",
       "      <td>Ahmedabad</td>\n",
       "      <td>2019-05-15 12:00:00</td>\n",
       "      <td>27.27</td>\n",
       "      <td>102.68</td>\n",
       "      <td>8.16</td>\n",
       "      <td>66.79</td>\n",
       "      <td>41.89</td>\n",
       "      <td>NaN</td>\n",
       "      <td>8.16</td>\n",
       "      <td>124.37</td>\n",
       "      <td>88.85</td>\n",
       "      <td>14.22</td>\n",
       "      <td>85.15</td>\n",
       "      <td>16.17</td>\n",
       "      <td>255.0</td>\n",
       "      <td>Poor</td>\n",
       "      <td>5</td>\n",
       "    </tr>\n",
       "    <tr>\n",
       "      <th>38292</th>\n",
       "      <td>Ahmedabad</td>\n",
       "      <td>2019-05-15 13:00:00</td>\n",
       "      <td>27.30</td>\n",
       "      <td>102.68</td>\n",
       "      <td>7.52</td>\n",
       "      <td>60.64</td>\n",
       "      <td>38.16</td>\n",
       "      <td>NaN</td>\n",
       "      <td>7.52</td>\n",
       "      <td>170.01</td>\n",
       "      <td>97.76</td>\n",
       "      <td>18.15</td>\n",
       "      <td>84.45</td>\n",
       "      <td>17.66</td>\n",
       "      <td>255.0</td>\n",
       "      <td>Poor</td>\n",
       "      <td>5</td>\n",
       "    </tr>\n",
       "    <tr>\n",
       "      <th>38294</th>\n",
       "      <td>Ahmedabad</td>\n",
       "      <td>2019-05-15 15:00:00</td>\n",
       "      <td>23.84</td>\n",
       "      <td>121.94</td>\n",
       "      <td>9.06</td>\n",
       "      <td>70.40</td>\n",
       "      <td>44.67</td>\n",
       "      <td>NaN</td>\n",
       "      <td>9.06</td>\n",
       "      <td>31.13</td>\n",
       "      <td>94.66</td>\n",
       "      <td>21.77</td>\n",
       "      <td>91.95</td>\n",
       "      <td>10.41</td>\n",
       "      <td>255.0</td>\n",
       "      <td>Poor</td>\n",
       "      <td>5</td>\n",
       "    </tr>\n",
       "    <tr>\n",
       "      <th>...</th>\n",
       "      <td>...</td>\n",
       "      <td>...</td>\n",
       "      <td>...</td>\n",
       "      <td>...</td>\n",
       "      <td>...</td>\n",
       "      <td>...</td>\n",
       "      <td>...</td>\n",
       "      <td>...</td>\n",
       "      <td>...</td>\n",
       "      <td>...</td>\n",
       "      <td>...</td>\n",
       "      <td>...</td>\n",
       "      <td>...</td>\n",
       "      <td>...</td>\n",
       "      <td>...</td>\n",
       "      <td>...</td>\n",
       "      <td>...</td>\n",
       "    </tr>\n",
       "    <tr>\n",
       "      <th>707870</th>\n",
       "      <td>Visakhapatnam</td>\n",
       "      <td>2020-06-30 20:00:00</td>\n",
       "      <td>9.50</td>\n",
       "      <td>36.00</td>\n",
       "      <td>2.75</td>\n",
       "      <td>25.57</td>\n",
       "      <td>15.85</td>\n",
       "      <td>4.57</td>\n",
       "      <td>0.62</td>\n",
       "      <td>NaN</td>\n",
       "      <td>27.75</td>\n",
       "      <td>NaN</td>\n",
       "      <td>NaN</td>\n",
       "      <td>NaN</td>\n",
       "      <td>51.0</td>\n",
       "      <td>Satisfactory</td>\n",
       "      <td>6</td>\n",
       "    </tr>\n",
       "    <tr>\n",
       "      <th>707871</th>\n",
       "      <td>Visakhapatnam</td>\n",
       "      <td>2020-06-30 21:00:00</td>\n",
       "      <td>17.25</td>\n",
       "      <td>49.25</td>\n",
       "      <td>3.62</td>\n",
       "      <td>33.20</td>\n",
       "      <td>20.62</td>\n",
       "      <td>3.78</td>\n",
       "      <td>0.76</td>\n",
       "      <td>2.02</td>\n",
       "      <td>25.58</td>\n",
       "      <td>NaN</td>\n",
       "      <td>NaN</td>\n",
       "      <td>NaN</td>\n",
       "      <td>51.0</td>\n",
       "      <td>Satisfactory</td>\n",
       "      <td>6</td>\n",
       "    </tr>\n",
       "    <tr>\n",
       "      <th>707872</th>\n",
       "      <td>Visakhapatnam</td>\n",
       "      <td>2020-06-30 22:00:00</td>\n",
       "      <td>36.00</td>\n",
       "      <td>71.00</td>\n",
       "      <td>2.20</td>\n",
       "      <td>30.80</td>\n",
       "      <td>18.20</td>\n",
       "      <td>3.67</td>\n",
       "      <td>0.58</td>\n",
       "      <td>1.77</td>\n",
       "      <td>26.15</td>\n",
       "      <td>NaN</td>\n",
       "      <td>NaN</td>\n",
       "      <td>NaN</td>\n",
       "      <td>50.0</td>\n",
       "      <td>Good</td>\n",
       "      <td>6</td>\n",
       "    </tr>\n",
       "    <tr>\n",
       "      <th>707873</th>\n",
       "      <td>Visakhapatnam</td>\n",
       "      <td>2020-06-30 23:00:00</td>\n",
       "      <td>15.75</td>\n",
       "      <td>63.00</td>\n",
       "      <td>1.02</td>\n",
       "      <td>28.90</td>\n",
       "      <td>16.00</td>\n",
       "      <td>3.80</td>\n",
       "      <td>0.49</td>\n",
       "      <td>0.75</td>\n",
       "      <td>15.82</td>\n",
       "      <td>NaN</td>\n",
       "      <td>NaN</td>\n",
       "      <td>NaN</td>\n",
       "      <td>50.0</td>\n",
       "      <td>Good</td>\n",
       "      <td>6</td>\n",
       "    </tr>\n",
       "    <tr>\n",
       "      <th>707874</th>\n",
       "      <td>Visakhapatnam</td>\n",
       "      <td>2020-07-01 00:00:00</td>\n",
       "      <td>15.00</td>\n",
       "      <td>66.00</td>\n",
       "      <td>0.40</td>\n",
       "      <td>26.85</td>\n",
       "      <td>14.05</td>\n",
       "      <td>5.20</td>\n",
       "      <td>0.59</td>\n",
       "      <td>2.10</td>\n",
       "      <td>17.05</td>\n",
       "      <td>NaN</td>\n",
       "      <td>NaN</td>\n",
       "      <td>NaN</td>\n",
       "      <td>50.0</td>\n",
       "      <td>Good</td>\n",
       "      <td>7</td>\n",
       "    </tr>\n",
       "  </tbody>\n",
       "</table>\n",
       "<p>361863 rows × 17 columns</p>\n",
       "</div>"
      ],
      "text/plain": [
       "                 City            Datetime  PM2.5    PM10     NO    NO2    NOx  \\\n",
       "38289       Ahmedabad 2019-05-15 10:00:00  25.91   84.90  13.85  58.41  44.29   \n",
       "38290       Ahmedabad 2019-05-15 11:00:00  27.27   98.29  11.30  71.93  47.98   \n",
       "38291       Ahmedabad 2019-05-15 12:00:00  27.27  102.68   8.16  66.79  41.89   \n",
       "38292       Ahmedabad 2019-05-15 13:00:00  27.30  102.68   7.52  60.64  38.16   \n",
       "38294       Ahmedabad 2019-05-15 15:00:00  23.84  121.94   9.06  70.40  44.67   \n",
       "...               ...                 ...    ...     ...    ...    ...    ...   \n",
       "707870  Visakhapatnam 2020-06-30 20:00:00   9.50   36.00   2.75  25.57  15.85   \n",
       "707871  Visakhapatnam 2020-06-30 21:00:00  17.25   49.25   3.62  33.20  20.62   \n",
       "707872  Visakhapatnam 2020-06-30 22:00:00  36.00   71.00   2.20  30.80  18.20   \n",
       "707873  Visakhapatnam 2020-06-30 23:00:00  15.75   63.00   1.02  28.90  16.00   \n",
       "707874  Visakhapatnam 2020-07-01 00:00:00  15.00   66.00   0.40  26.85  14.05   \n",
       "\n",
       "         NH3     CO     SO2     O3  Benzene  Toluene  Xylene    AQI  \\\n",
       "38289    NaN  13.85  140.10  47.69    16.60    83.44   12.12  255.0   \n",
       "38290    NaN  11.30  144.20  71.96    13.39    80.38   10.83  255.0   \n",
       "38291    NaN   8.16  124.37  88.85    14.22    85.15   16.17  255.0   \n",
       "38292    NaN   7.52  170.01  97.76    18.15    84.45   17.66  255.0   \n",
       "38294    NaN   9.06   31.13  94.66    21.77    91.95   10.41  255.0   \n",
       "...      ...    ...     ...    ...      ...      ...     ...    ...   \n",
       "707870  4.57   0.62     NaN  27.75      NaN      NaN     NaN   51.0   \n",
       "707871  3.78   0.76    2.02  25.58      NaN      NaN     NaN   51.0   \n",
       "707872  3.67   0.58    1.77  26.15      NaN      NaN     NaN   50.0   \n",
       "707873  3.80   0.49    0.75  15.82      NaN      NaN     NaN   50.0   \n",
       "707874  5.20   0.59    2.10  17.05      NaN      NaN     NaN   50.0   \n",
       "\n",
       "          AQI_Bucket  Month  \n",
       "38289           Poor      5  \n",
       "38290           Poor      5  \n",
       "38291           Poor      5  \n",
       "38292           Poor      5  \n",
       "38294           Poor      5  \n",
       "...              ...    ...  \n",
       "707870  Satisfactory      6  \n",
       "707871  Satisfactory      6  \n",
       "707872          Good      6  \n",
       "707873          Good      6  \n",
       "707874          Good      7  \n",
       "\n",
       "[361863 rows x 17 columns]"
      ]
     },
     "execution_count": 32,
     "metadata": {},
     "output_type": "execute_result"
    }
   ],
   "source": [
    "df2"
   ]
  },
  {
   "cell_type": "markdown",
   "metadata": {},
   "source": [
    "Now, lets look at the missing values."
   ]
  },
  {
   "cell_type": "code",
   "execution_count": 33,
   "metadata": {},
   "outputs": [
    {
     "data": {
      "text/plain": [
       "City           0.000000\n",
       "Datetime       0.000000\n",
       "PM2.5          0.000000\n",
       "PM10           0.000000\n",
       "NO             1.465195\n",
       "NO2            2.185634\n",
       "NOx            0.000000\n",
       "NH3           12.051522\n",
       "CO             0.486096\n",
       "SO2            4.184180\n",
       "O3             3.301526\n",
       "Benzene       11.592785\n",
       "Toluene       24.343467\n",
       "Xylene        58.960159\n",
       "AQI            0.000000\n",
       "AQI_Bucket     0.000000\n",
       "Month          0.000000\n",
       "dtype: float64"
      ]
     },
     "execution_count": 33,
     "metadata": {},
     "output_type": "execute_result"
    }
   ],
   "source": [
    "df2.isnull().sum()/len(df2)*100"
   ]
  },
  {
   "cell_type": "code",
   "execution_count": 34,
   "metadata": {},
   "outputs": [
    {
     "data": {
      "text/plain": [
       "<Axes: xlabel='PM10', ylabel='Density'>"
      ]
     },
     "execution_count": 34,
     "metadata": {},
     "output_type": "execute_result"
    },
    {
     "data": {
      "image/png": "[encoded data removed]",
      "text/plain": [
       "<Figure size 640x480 with 1 Axes>"
      ]
     },
     "metadata": {},
     "output_type": "display_data"
    }
   ],
   "source": [
    "sns.kdeplot(df2[\"PM10\"])"
   ]
  },
  {
   "cell_type": "code",
   "execution_count": 35,
   "metadata": {},
   "outputs": [
    {
     "data": {
      "text/plain": [
       "<Axes: xlabel='PM10', ylabel='Density'>"
      ]
     },
     "execution_count": 35,
     "metadata": {},
     "output_type": "execute_result"
    },
    {
     "data": {
      "image/png": "[encoded data removed]",
      "text/plain": [
       "<Figure size 640x480 with 1 Axes>"
      ]
     },
     "metadata": {},
     "output_type": "display_data"
    }
   ],
   "source": [
    "sns.kdeplot(df2[\"PM10\"])"
   ]
  },
  {
   "cell_type": "markdown",
   "metadata": {},
   "source": [
    "Still our datset is not normally ditributed. But it is somewhat acceptable as we are dealing with the air qualitiy which can be extreme."
   ]
  },
  {
   "cell_type": "markdown",
   "metadata": {},
   "source": [
    "Now, lets get back to filling the missing values. As we know our dataset is somewhat skewed we should fill it with the median."
   ]
  },
  {
   "cell_type": "code",
   "execution_count": 36,
   "metadata": {},
   "outputs": [
    {
     "data": {
      "text/plain": [
       "City           0.000000\n",
       "Datetime       0.000000\n",
       "PM2.5          0.000000\n",
       "PM10           0.000000\n",
       "NO             1.465195\n",
       "NO2            2.185634\n",
       "NOx            0.000000\n",
       "NH3           12.051522\n",
       "CO             0.486096\n",
       "SO2            4.184180\n",
       "O3             3.301526\n",
       "Benzene       11.592785\n",
       "Toluene       24.343467\n",
       "Xylene        58.960159\n",
       "AQI            0.000000\n",
       "AQI_Bucket     0.000000\n",
       "Month          0.000000\n",
       "dtype: float64"
      ]
     },
     "execution_count": 36,
     "metadata": {},
     "output_type": "execute_result"
    }
   ],
   "source": [
    "df2.isnull().sum()/len(df2)*100"
   ]
  },
  {
   "cell_type": "code",
   "execution_count": 37,
   "metadata": {},
   "outputs": [],
   "source": [
    "df2[\"Xylene\"] = df2[\"Xylene\"].fillna(df2[\"Xylene\"].median())"
   ]
  },
  {
   "cell_type": "code",
   "execution_count": 38,
   "metadata": {},
   "outputs": [],
   "source": [
    "df2[\"Toluene\"] = df2[\"Toluene\"].fillna(df2[\"Toluene\"].median())"
   ]
  },
  {
   "cell_type": "code",
   "execution_count": 39,
   "metadata": {},
   "outputs": [],
   "source": [
    "df2[\"Benzene\"] = df2[\"Benzene\"].fillna(df2[\"Benzene\"].median())"
   ]
  },
  {
   "cell_type": "code",
   "execution_count": 40,
   "metadata": {},
   "outputs": [
    {
     "data": {
      "text/html": [
       "<div>\n",
       "<style scoped>\n",
       "    .dataframe tbody tr th:only-of-type {\n",
       "        vertical-align: middle;\n",
       "    }\n",
       "\n",
       "    .dataframe tbody tr th {\n",
       "        vertical-align: top;\n",
       "    }\n",
       "\n",
       "    .dataframe thead th {\n",
       "        text-align: right;\n",
       "    }\n",
       "</style>\n",
       "<table border=\"1\" class=\"dataframe\">\n",
       "  <thead>\n",
       "    <tr style=\"text-align: right;\">\n",
       "      <th></th>\n",
       "      <th>City</th>\n",
       "      <th>Datetime</th>\n",
       "      <th>PM2.5</th>\n",
       "      <th>PM10</th>\n",
       "      <th>NO</th>\n",
       "      <th>NO2</th>\n",
       "      <th>NOx</th>\n",
       "      <th>NH3</th>\n",
       "      <th>CO</th>\n",
       "      <th>SO2</th>\n",
       "      <th>O3</th>\n",
       "      <th>Benzene</th>\n",
       "      <th>Toluene</th>\n",
       "      <th>Xylene</th>\n",
       "      <th>AQI</th>\n",
       "      <th>AQI_Bucket</th>\n",
       "      <th>Month</th>\n",
       "    </tr>\n",
       "  </thead>\n",
       "  <tbody>\n",
       "    <tr>\n",
       "      <th>38289</th>\n",
       "      <td>Ahmedabad</td>\n",
       "      <td>2019-05-15 10:00:00</td>\n",
       "      <td>25.91</td>\n",
       "      <td>84.90</td>\n",
       "      <td>13.85</td>\n",
       "      <td>58.41</td>\n",
       "      <td>44.29</td>\n",
       "      <td>NaN</td>\n",
       "      <td>13.85</td>\n",
       "      <td>140.10</td>\n",
       "      <td>47.69</td>\n",
       "      <td>16.60</td>\n",
       "      <td>83.44</td>\n",
       "      <td>12.12</td>\n",
       "      <td>255.0</td>\n",
       "      <td>Poor</td>\n",
       "      <td>5</td>\n",
       "    </tr>\n",
       "    <tr>\n",
       "      <th>38290</th>\n",
       "      <td>Ahmedabad</td>\n",
       "      <td>2019-05-15 11:00:00</td>\n",
       "      <td>27.27</td>\n",
       "      <td>98.29</td>\n",
       "      <td>11.30</td>\n",
       "      <td>71.93</td>\n",
       "      <td>47.98</td>\n",
       "      <td>NaN</td>\n",
       "      <td>11.30</td>\n",
       "      <td>144.20</td>\n",
       "      <td>71.96</td>\n",
       "      <td>13.39</td>\n",
       "      <td>80.38</td>\n",
       "      <td>10.83</td>\n",
       "      <td>255.0</td>\n",
       "      <td>Poor</td>\n",
       "      <td>5</td>\n",
       "    </tr>\n",
       "    <tr>\n",
       "      <th>38291</th>\n",
       "      <td>Ahmedabad</td>\n",
       "      <td>2019-05-15 12:00:00</td>\n",
       "      <td>27.27</td>\n",
       "      <td>102.68</td>\n",
       "      <td>8.16</td>\n",
       "      <td>66.79</td>\n",
       "      <td>41.89</td>\n",
       "      <td>NaN</td>\n",
       "      <td>8.16</td>\n",
       "      <td>124.37</td>\n",
       "      <td>88.85</td>\n",
       "      <td>14.22</td>\n",
       "      <td>85.15</td>\n",
       "      <td>16.17</td>\n",
       "      <td>255.0</td>\n",
       "      <td>Poor</td>\n",
       "      <td>5</td>\n",
       "    </tr>\n",
       "    <tr>\n",
       "      <th>38292</th>\n",
       "      <td>Ahmedabad</td>\n",
       "      <td>2019-05-15 13:00:00</td>\n",
       "      <td>27.30</td>\n",
       "      <td>102.68</td>\n",
       "      <td>7.52</td>\n",
       "      <td>60.64</td>\n",
       "      <td>38.16</td>\n",
       "      <td>NaN</td>\n",
       "      <td>7.52</td>\n",
       "      <td>170.01</td>\n",
       "      <td>97.76</td>\n",
       "      <td>18.15</td>\n",
       "      <td>84.45</td>\n",
       "      <td>17.66</td>\n",
       "      <td>255.0</td>\n",
       "      <td>Poor</td>\n",
       "      <td>5</td>\n",
       "    </tr>\n",
       "    <tr>\n",
       "      <th>38294</th>\n",
       "      <td>Ahmedabad</td>\n",
       "      <td>2019-05-15 15:00:00</td>\n",
       "      <td>23.84</td>\n",
       "      <td>121.94</td>\n",
       "      <td>9.06</td>\n",
       "      <td>70.40</td>\n",
       "      <td>44.67</td>\n",
       "      <td>NaN</td>\n",
       "      <td>9.06</td>\n",
       "      <td>31.13</td>\n",
       "      <td>94.66</td>\n",
       "      <td>21.77</td>\n",
       "      <td>91.95</td>\n",
       "      <td>10.41</td>\n",
       "      <td>255.0</td>\n",
       "      <td>Poor</td>\n",
       "      <td>5</td>\n",
       "    </tr>\n",
       "    <tr>\n",
       "      <th>...</th>\n",
       "      <td>...</td>\n",
       "      <td>...</td>\n",
       "      <td>...</td>\n",
       "      <td>...</td>\n",
       "      <td>...</td>\n",
       "      <td>...</td>\n",
       "      <td>...</td>\n",
       "      <td>...</td>\n",
       "      <td>...</td>\n",
       "      <td>...</td>\n",
       "      <td>...</td>\n",
       "      <td>...</td>\n",
       "      <td>...</td>\n",
       "      <td>...</td>\n",
       "      <td>...</td>\n",
       "      <td>...</td>\n",
       "      <td>...</td>\n",
       "    </tr>\n",
       "    <tr>\n",
       "      <th>707870</th>\n",
       "      <td>Visakhapatnam</td>\n",
       "      <td>2020-06-30 20:00:00</td>\n",
       "      <td>9.50</td>\n",
       "      <td>36.00</td>\n",
       "      <td>2.75</td>\n",
       "      <td>25.57</td>\n",
       "      <td>15.85</td>\n",
       "      <td>4.57</td>\n",
       "      <td>0.62</td>\n",
       "      <td>NaN</td>\n",
       "      <td>27.75</td>\n",
       "      <td>1.26</td>\n",
       "      <td>3.79</td>\n",
       "      <td>1.07</td>\n",
       "      <td>51.0</td>\n",
       "      <td>Satisfactory</td>\n",
       "      <td>6</td>\n",
       "    </tr>\n",
       "    <tr>\n",
       "      <th>707871</th>\n",
       "      <td>Visakhapatnam</td>\n",
       "      <td>2020-06-30 21:00:00</td>\n",
       "      <td>17.25</td>\n",
       "      <td>49.25</td>\n",
       "      <td>3.62</td>\n",
       "      <td>33.20</td>\n",
       "      <td>20.62</td>\n",
       "      <td>3.78</td>\n",
       "      <td>0.76</td>\n",
       "      <td>2.02</td>\n",
       "      <td>25.58</td>\n",
       "      <td>1.26</td>\n",
       "      <td>3.79</td>\n",
       "      <td>1.07</td>\n",
       "      <td>51.0</td>\n",
       "      <td>Satisfactory</td>\n",
       "      <td>6</td>\n",
       "    </tr>\n",
       "    <tr>\n",
       "      <th>707872</th>\n",
       "      <td>Visakhapatnam</td>\n",
       "      <td>2020-06-30 22:00:00</td>\n",
       "      <td>36.00</td>\n",
       "      <td>71.00</td>\n",
       "      <td>2.20</td>\n",
       "      <td>30.80</td>\n",
       "      <td>18.20</td>\n",
       "      <td>3.67</td>\n",
       "      <td>0.58</td>\n",
       "      <td>1.77</td>\n",
       "      <td>26.15</td>\n",
       "      <td>1.26</td>\n",
       "      <td>3.79</td>\n",
       "      <td>1.07</td>\n",
       "      <td>50.0</td>\n",
       "      <td>Good</td>\n",
       "      <td>6</td>\n",
       "    </tr>\n",
       "    <tr>\n",
       "      <th>707873</th>\n",
       "      <td>Visakhapatnam</td>\n",
       "      <td>2020-06-30 23:00:00</td>\n",
       "      <td>15.75</td>\n",
       "      <td>63.00</td>\n",
       "      <td>1.02</td>\n",
       "      <td>28.90</td>\n",
       "      <td>16.00</td>\n",
       "      <td>3.80</td>\n",
       "      <td>0.49</td>\n",
       "      <td>0.75</td>\n",
       "      <td>15.82</td>\n",
       "      <td>1.26</td>\n",
       "      <td>3.79</td>\n",
       "      <td>1.07</td>\n",
       "      <td>50.0</td>\n",
       "      <td>Good</td>\n",
       "      <td>6</td>\n",
       "    </tr>\n",
       "    <tr>\n",
       "      <th>707874</th>\n",
       "      <td>Visakhapatnam</td>\n",
       "      <td>2020-07-01 00:00:00</td>\n",
       "      <td>15.00</td>\n",
       "      <td>66.00</td>\n",
       "      <td>0.40</td>\n",
       "      <td>26.85</td>\n",
       "      <td>14.05</td>\n",
       "      <td>5.20</td>\n",
       "      <td>0.59</td>\n",
       "      <td>2.10</td>\n",
       "      <td>17.05</td>\n",
       "      <td>1.26</td>\n",
       "      <td>3.79</td>\n",
       "      <td>1.07</td>\n",
       "      <td>50.0</td>\n",
       "      <td>Good</td>\n",
       "      <td>7</td>\n",
       "    </tr>\n",
       "  </tbody>\n",
       "</table>\n",
       "<p>361863 rows × 17 columns</p>\n",
       "</div>"
      ],
      "text/plain": [
       "                 City            Datetime  PM2.5    PM10     NO    NO2    NOx  \\\n",
       "38289       Ahmedabad 2019-05-15 10:00:00  25.91   84.90  13.85  58.41  44.29   \n",
       "38290       Ahmedabad 2019-05-15 11:00:00  27.27   98.29  11.30  71.93  47.98   \n",
       "38291       Ahmedabad 2019-05-15 12:00:00  27.27  102.68   8.16  66.79  41.89   \n",
       "38292       Ahmedabad 2019-05-15 13:00:00  27.30  102.68   7.52  60.64  38.16   \n",
       "38294       Ahmedabad 2019-05-15 15:00:00  23.84  121.94   9.06  70.40  44.67   \n",
       "...               ...                 ...    ...     ...    ...    ...    ...   \n",
       "707870  Visakhapatnam 2020-06-30 20:00:00   9.50   36.00   2.75  25.57  15.85   \n",
       "707871  Visakhapatnam 2020-06-30 21:00:00  17.25   49.25   3.62  33.20  20.62   \n",
       "707872  Visakhapatnam 2020-06-30 22:00:00  36.00   71.00   2.20  30.80  18.20   \n",
       "707873  Visakhapatnam 2020-06-30 23:00:00  15.75   63.00   1.02  28.90  16.00   \n",
       "707874  Visakhapatnam 2020-07-01 00:00:00  15.00   66.00   0.40  26.85  14.05   \n",
       "\n",
       "         NH3     CO     SO2     O3  Benzene  Toluene  Xylene    AQI  \\\n",
       "38289    NaN  13.85  140.10  47.69    16.60    83.44   12.12  255.0   \n",
       "38290    NaN  11.30  144.20  71.96    13.39    80.38   10.83  255.0   \n",
       "38291    NaN   8.16  124.37  88.85    14.22    85.15   16.17  255.0   \n",
       "38292    NaN   7.52  170.01  97.76    18.15    84.45   17.66  255.0   \n",
       "38294    NaN   9.06   31.13  94.66    21.77    91.95   10.41  255.0   \n",
       "...      ...    ...     ...    ...      ...      ...     ...    ...   \n",
       "707870  4.57   0.62     NaN  27.75     1.26     3.79    1.07   51.0   \n",
       "707871  3.78   0.76    2.02  25.58     1.26     3.79    1.07   51.0   \n",
       "707872  3.67   0.58    1.77  26.15     1.26     3.79    1.07   50.0   \n",
       "707873  3.80   0.49    0.75  15.82     1.26     3.79    1.07   50.0   \n",
       "707874  5.20   0.59    2.10  17.05     1.26     3.79    1.07   50.0   \n",
       "\n",
       "          AQI_Bucket  Month  \n",
       "38289           Poor      5  \n",
       "38290           Poor      5  \n",
       "38291           Poor      5  \n",
       "38292           Poor      5  \n",
       "38294           Poor      5  \n",
       "...              ...    ...  \n",
       "707870  Satisfactory      6  \n",
       "707871  Satisfactory      6  \n",
       "707872          Good      6  \n",
       "707873          Good      6  \n",
       "707874          Good      7  \n",
       "\n",
       "[361863 rows x 17 columns]"
      ]
     },
     "execution_count": 40,
     "metadata": {},
     "output_type": "execute_result"
    }
   ],
   "source": [
    "df2"
   ]
  },
  {
   "cell_type": "code",
   "execution_count": 41,
   "metadata": {},
   "outputs": [
    {
     "data": {
      "text/plain": [
       "City           0.000000\n",
       "Datetime       0.000000\n",
       "PM2.5          0.000000\n",
       "PM10           0.000000\n",
       "NO             1.465195\n",
       "NO2            2.185634\n",
       "NOx            0.000000\n",
       "NH3           12.051522\n",
       "CO             0.486096\n",
       "SO2            4.184180\n",
       "O3             3.301526\n",
       "Benzene        0.000000\n",
       "Toluene        0.000000\n",
       "Xylene         0.000000\n",
       "AQI            0.000000\n",
       "AQI_Bucket     0.000000\n",
       "Month          0.000000\n",
       "dtype: float64"
      ]
     },
     "execution_count": 41,
     "metadata": {},
     "output_type": "execute_result"
    }
   ],
   "source": [
    "df2.isnull().sum()/len(df2)*100"
   ]
  },
  {
   "cell_type": "code",
   "execution_count": 42,
   "metadata": {},
   "outputs": [],
   "source": [
    "df2[\"NH3\"] = df2[\"NH3\"].fillna(df2[\"NH3\"].median())"
   ]
  },
  {
   "cell_type": "code",
   "execution_count": 43,
   "metadata": {},
   "outputs": [
    {
     "data": {
      "text/plain": [
       "City          0.000000\n",
       "Datetime      0.000000\n",
       "PM2.5         0.000000\n",
       "PM10          0.000000\n",
       "NO            1.465195\n",
       "NO2           2.185634\n",
       "NOx           0.000000\n",
       "NH3           0.000000\n",
       "CO            0.486096\n",
       "SO2           4.184180\n",
       "O3            3.301526\n",
       "Benzene       0.000000\n",
       "Toluene       0.000000\n",
       "Xylene        0.000000\n",
       "AQI           0.000000\n",
       "AQI_Bucket    0.000000\n",
       "Month         0.000000\n",
       "dtype: float64"
      ]
     },
     "execution_count": 43,
     "metadata": {},
     "output_type": "execute_result"
    }
   ],
   "source": [
    "df2.isnull().sum()/len(df2)*100"
   ]
  },
  {
   "cell_type": "code",
   "execution_count": 44,
   "metadata": {},
   "outputs": [],
   "source": [
    "df2.dropna(inplace= True)"
   ]
  },
  {
   "cell_type": "code",
   "execution_count": 45,
   "metadata": {},
   "outputs": [
    {
     "data": {
      "text/plain": [
       "City          0.0\n",
       "Datetime      0.0\n",
       "PM2.5         0.0\n",
       "PM10          0.0\n",
       "NO            0.0\n",
       "NO2           0.0\n",
       "NOx           0.0\n",
       "NH3           0.0\n",
       "CO            0.0\n",
       "SO2           0.0\n",
       "O3            0.0\n",
       "Benzene       0.0\n",
       "Toluene       0.0\n",
       "Xylene        0.0\n",
       "AQI           0.0\n",
       "AQI_Bucket    0.0\n",
       "Month         0.0\n",
       "dtype: float64"
      ]
     },
     "execution_count": 45,
     "metadata": {},
     "output_type": "execute_result"
    }
   ],
   "source": [
    "df2.isnull().sum()/len(df2)*100"
   ]
  },
  {
   "cell_type": "markdown",
   "metadata": {},
   "source": [
    "So far our data cleaning and handling missing values has been done."
   ]
  },
  {
   "cell_type": "markdown",
   "metadata": {},
   "source": [
    "                                                        Temporal Analysis"
   ]
  },
  {
   "cell_type": "markdown",
   "metadata": {},
   "source": [
    "1- Monthly Trends of different pollutants."
   ]
  },
  {
   "cell_type": "code",
   "execution_count": 46,
   "metadata": {},
   "outputs": [
    {
     "name": "stdout",
     "output_type": "stream",
     "text": [
      "          PM10   PM2.5    NOx    AQI\n",
      "Month                               \n",
      "1      127.385  70.670  30.80  156.0\n",
      "2      118.360  58.000  29.83  132.0\n",
      "3       97.750  42.750  23.41  113.0\n",
      "4       80.500  33.110  19.68   98.0\n",
      "5       82.630  32.030  19.58  101.0\n",
      "6       57.450  23.750  17.66   78.0\n",
      "7       55.500  23.210  20.88   73.0\n",
      "8       52.750  22.000  21.70   71.0\n",
      "9       57.000  25.415  21.24   78.0\n",
      "10     100.880  48.470  27.18  114.0\n",
      "11     123.300  64.830  30.54  145.0\n",
      "12     127.000  70.530  30.40  152.0\n"
     ]
    }
   ],
   "source": [
    "monthly_trends = df2.groupby('Month')[['PM10', 'PM2.5', 'NOx' , 'AQI']].median()\n",
    "print(monthly_trends)"
   ]
  },
  {
   "cell_type": "code",
   "execution_count": 47,
   "metadata": {},
   "outputs": [
    {
     "data": {
      "text/plain": [
       "<Axes: xlabel='Month'>"
      ]
     },
     "execution_count": 47,
     "metadata": {},
     "output_type": "execute_result"
    },
    {
     "data": {
      "image/png": "[encoded data removed]",
      "text/plain": [
       "<Figure size 640x480 with 1 Axes>"
      ]
     },
     "metadata": {},
     "output_type": "display_data"
    }
   ],
   "source": [
    "sns.lineplot(data=monthly_trends)"
   ]
  },
  {
   "cell_type": "markdown",
   "metadata": {},
   "source": [
    "As we can see, in the month of Jan - Mar and Oct - Dec, the spikes are very high. These can be due to winter sesason and diwali. Then suddenly it gets dropped which might be because of season change, tempreture etc. Thus with all these the AQI also gets affected."
   ]
  },
  {
   "cell_type": "markdown",
   "metadata": {},
   "source": [
    "2- What are the most polluted seasons with their respective city names?"
   ]
  },
  {
   "cell_type": "code",
   "execution_count": 48,
   "metadata": {},
   "outputs": [
    {
     "data": {
      "text/html": [
       "<div>\n",
       "<style scoped>\n",
       "    .dataframe tbody tr th:only-of-type {\n",
       "        vertical-align: middle;\n",
       "    }\n",
       "\n",
       "    .dataframe tbody tr th {\n",
       "        vertical-align: top;\n",
       "    }\n",
       "\n",
       "    .dataframe thead th {\n",
       "        text-align: right;\n",
       "    }\n",
       "</style>\n",
       "<table border=\"1\" class=\"dataframe\">\n",
       "  <thead>\n",
       "    <tr style=\"text-align: right;\">\n",
       "      <th></th>\n",
       "      <th>City</th>\n",
       "      <th>Datetime</th>\n",
       "      <th>PM2.5</th>\n",
       "      <th>PM10</th>\n",
       "      <th>NO</th>\n",
       "      <th>NO2</th>\n",
       "      <th>NOx</th>\n",
       "      <th>NH3</th>\n",
       "      <th>CO</th>\n",
       "      <th>SO2</th>\n",
       "      <th>O3</th>\n",
       "      <th>Benzene</th>\n",
       "      <th>Toluene</th>\n",
       "      <th>Xylene</th>\n",
       "      <th>AQI</th>\n",
       "      <th>AQI_Bucket</th>\n",
       "      <th>Month</th>\n",
       "    </tr>\n",
       "  </thead>\n",
       "  <tbody>\n",
       "    <tr>\n",
       "      <th>38289</th>\n",
       "      <td>Ahmedabad</td>\n",
       "      <td>2019-05-15 10:00:00</td>\n",
       "      <td>25.91</td>\n",
       "      <td>84.90</td>\n",
       "      <td>13.85</td>\n",
       "      <td>58.41</td>\n",
       "      <td>44.29</td>\n",
       "      <td>15.16</td>\n",
       "      <td>13.85</td>\n",
       "      <td>140.10</td>\n",
       "      <td>47.69</td>\n",
       "      <td>16.60</td>\n",
       "      <td>83.44</td>\n",
       "      <td>12.12</td>\n",
       "      <td>255.0</td>\n",
       "      <td>Poor</td>\n",
       "      <td>5</td>\n",
       "    </tr>\n",
       "    <tr>\n",
       "      <th>38290</th>\n",
       "      <td>Ahmedabad</td>\n",
       "      <td>2019-05-15 11:00:00</td>\n",
       "      <td>27.27</td>\n",
       "      <td>98.29</td>\n",
       "      <td>11.30</td>\n",
       "      <td>71.93</td>\n",
       "      <td>47.98</td>\n",
       "      <td>15.16</td>\n",
       "      <td>11.30</td>\n",
       "      <td>144.20</td>\n",
       "      <td>71.96</td>\n",
       "      <td>13.39</td>\n",
       "      <td>80.38</td>\n",
       "      <td>10.83</td>\n",
       "      <td>255.0</td>\n",
       "      <td>Poor</td>\n",
       "      <td>5</td>\n",
       "    </tr>\n",
       "    <tr>\n",
       "      <th>38291</th>\n",
       "      <td>Ahmedabad</td>\n",
       "      <td>2019-05-15 12:00:00</td>\n",
       "      <td>27.27</td>\n",
       "      <td>102.68</td>\n",
       "      <td>8.16</td>\n",
       "      <td>66.79</td>\n",
       "      <td>41.89</td>\n",
       "      <td>15.16</td>\n",
       "      <td>8.16</td>\n",
       "      <td>124.37</td>\n",
       "      <td>88.85</td>\n",
       "      <td>14.22</td>\n",
       "      <td>85.15</td>\n",
       "      <td>16.17</td>\n",
       "      <td>255.0</td>\n",
       "      <td>Poor</td>\n",
       "      <td>5</td>\n",
       "    </tr>\n",
       "    <tr>\n",
       "      <th>38292</th>\n",
       "      <td>Ahmedabad</td>\n",
       "      <td>2019-05-15 13:00:00</td>\n",
       "      <td>27.30</td>\n",
       "      <td>102.68</td>\n",
       "      <td>7.52</td>\n",
       "      <td>60.64</td>\n",
       "      <td>38.16</td>\n",
       "      <td>15.16</td>\n",
       "      <td>7.52</td>\n",
       "      <td>170.01</td>\n",
       "      <td>97.76</td>\n",
       "      <td>18.15</td>\n",
       "      <td>84.45</td>\n",
       "      <td>17.66</td>\n",
       "      <td>255.0</td>\n",
       "      <td>Poor</td>\n",
       "      <td>5</td>\n",
       "    </tr>\n",
       "    <tr>\n",
       "      <th>38294</th>\n",
       "      <td>Ahmedabad</td>\n",
       "      <td>2019-05-15 15:00:00</td>\n",
       "      <td>23.84</td>\n",
       "      <td>121.94</td>\n",
       "      <td>9.06</td>\n",
       "      <td>70.40</td>\n",
       "      <td>44.67</td>\n",
       "      <td>15.16</td>\n",
       "      <td>9.06</td>\n",
       "      <td>31.13</td>\n",
       "      <td>94.66</td>\n",
       "      <td>21.77</td>\n",
       "      <td>91.95</td>\n",
       "      <td>10.41</td>\n",
       "      <td>255.0</td>\n",
       "      <td>Poor</td>\n",
       "      <td>5</td>\n",
       "    </tr>\n",
       "    <tr>\n",
       "      <th>...</th>\n",
       "      <td>...</td>\n",
       "      <td>...</td>\n",
       "      <td>...</td>\n",
       "      <td>...</td>\n",
       "      <td>...</td>\n",
       "      <td>...</td>\n",
       "      <td>...</td>\n",
       "      <td>...</td>\n",
       "      <td>...</td>\n",
       "      <td>...</td>\n",
       "      <td>...</td>\n",
       "      <td>...</td>\n",
       "      <td>...</td>\n",
       "      <td>...</td>\n",
       "      <td>...</td>\n",
       "      <td>...</td>\n",
       "      <td>...</td>\n",
       "    </tr>\n",
       "    <tr>\n",
       "      <th>707869</th>\n",
       "      <td>Visakhapatnam</td>\n",
       "      <td>2020-06-30 19:00:00</td>\n",
       "      <td>8.25</td>\n",
       "      <td>33.25</td>\n",
       "      <td>0.35</td>\n",
       "      <td>24.05</td>\n",
       "      <td>13.05</td>\n",
       "      <td>5.55</td>\n",
       "      <td>0.44</td>\n",
       "      <td>1.85</td>\n",
       "      <td>41.38</td>\n",
       "      <td>1.26</td>\n",
       "      <td>3.79</td>\n",
       "      <td>1.07</td>\n",
       "      <td>51.0</td>\n",
       "      <td>Satisfactory</td>\n",
       "      <td>6</td>\n",
       "    </tr>\n",
       "    <tr>\n",
       "      <th>707871</th>\n",
       "      <td>Visakhapatnam</td>\n",
       "      <td>2020-06-30 21:00:00</td>\n",
       "      <td>17.25</td>\n",
       "      <td>49.25</td>\n",
       "      <td>3.62</td>\n",
       "      <td>33.20</td>\n",
       "      <td>20.62</td>\n",
       "      <td>3.78</td>\n",
       "      <td>0.76</td>\n",
       "      <td>2.02</td>\n",
       "      <td>25.58</td>\n",
       "      <td>1.26</td>\n",
       "      <td>3.79</td>\n",
       "      <td>1.07</td>\n",
       "      <td>51.0</td>\n",
       "      <td>Satisfactory</td>\n",
       "      <td>6</td>\n",
       "    </tr>\n",
       "    <tr>\n",
       "      <th>707872</th>\n",
       "      <td>Visakhapatnam</td>\n",
       "      <td>2020-06-30 22:00:00</td>\n",
       "      <td>36.00</td>\n",
       "      <td>71.00</td>\n",
       "      <td>2.20</td>\n",
       "      <td>30.80</td>\n",
       "      <td>18.20</td>\n",
       "      <td>3.67</td>\n",
       "      <td>0.58</td>\n",
       "      <td>1.77</td>\n",
       "      <td>26.15</td>\n",
       "      <td>1.26</td>\n",
       "      <td>3.79</td>\n",
       "      <td>1.07</td>\n",
       "      <td>50.0</td>\n",
       "      <td>Good</td>\n",
       "      <td>6</td>\n",
       "    </tr>\n",
       "    <tr>\n",
       "      <th>707873</th>\n",
       "      <td>Visakhapatnam</td>\n",
       "      <td>2020-06-30 23:00:00</td>\n",
       "      <td>15.75</td>\n",
       "      <td>63.00</td>\n",
       "      <td>1.02</td>\n",
       "      <td>28.90</td>\n",
       "      <td>16.00</td>\n",
       "      <td>3.80</td>\n",
       "      <td>0.49</td>\n",
       "      <td>0.75</td>\n",
       "      <td>15.82</td>\n",
       "      <td>1.26</td>\n",
       "      <td>3.79</td>\n",
       "      <td>1.07</td>\n",
       "      <td>50.0</td>\n",
       "      <td>Good</td>\n",
       "      <td>6</td>\n",
       "    </tr>\n",
       "    <tr>\n",
       "      <th>707874</th>\n",
       "      <td>Visakhapatnam</td>\n",
       "      <td>2020-07-01 00:00:00</td>\n",
       "      <td>15.00</td>\n",
       "      <td>66.00</td>\n",
       "      <td>0.40</td>\n",
       "      <td>26.85</td>\n",
       "      <td>14.05</td>\n",
       "      <td>5.20</td>\n",
       "      <td>0.59</td>\n",
       "      <td>2.10</td>\n",
       "      <td>17.05</td>\n",
       "      <td>1.26</td>\n",
       "      <td>3.79</td>\n",
       "      <td>1.07</td>\n",
       "      <td>50.0</td>\n",
       "      <td>Good</td>\n",
       "      <td>7</td>\n",
       "    </tr>\n",
       "  </tbody>\n",
       "</table>\n",
       "<p>328699 rows × 17 columns</p>\n",
       "</div>"
      ],
      "text/plain": [
       "                 City            Datetime  PM2.5    PM10     NO    NO2    NOx  \\\n",
       "38289       Ahmedabad 2019-05-15 10:00:00  25.91   84.90  13.85  58.41  44.29   \n",
       "38290       Ahmedabad 2019-05-15 11:00:00  27.27   98.29  11.30  71.93  47.98   \n",
       "38291       Ahmedabad 2019-05-15 12:00:00  27.27  102.68   8.16  66.79  41.89   \n",
       "38292       Ahmedabad 2019-05-15 13:00:00  27.30  102.68   7.52  60.64  38.16   \n",
       "38294       Ahmedabad 2019-05-15 15:00:00  23.84  121.94   9.06  70.40  44.67   \n",
       "...               ...                 ...    ...     ...    ...    ...    ...   \n",
       "707869  Visakhapatnam 2020-06-30 19:00:00   8.25   33.25   0.35  24.05  13.05   \n",
       "707871  Visakhapatnam 2020-06-30 21:00:00  17.25   49.25   3.62  33.20  20.62   \n",
       "707872  Visakhapatnam 2020-06-30 22:00:00  36.00   71.00   2.20  30.80  18.20   \n",
       "707873  Visakhapatnam 2020-06-30 23:00:00  15.75   63.00   1.02  28.90  16.00   \n",
       "707874  Visakhapatnam 2020-07-01 00:00:00  15.00   66.00   0.40  26.85  14.05   \n",
       "\n",
       "          NH3     CO     SO2     O3  Benzene  Toluene  Xylene    AQI  \\\n",
       "38289   15.16  13.85  140.10  47.69    16.60    83.44   12.12  255.0   \n",
       "38290   15.16  11.30  144.20  71.96    13.39    80.38   10.83  255.0   \n",
       "38291   15.16   8.16  124.37  88.85    14.22    85.15   16.17  255.0   \n",
       "38292   15.16   7.52  170.01  97.76    18.15    84.45   17.66  255.0   \n",
       "38294   15.16   9.06   31.13  94.66    21.77    91.95   10.41  255.0   \n",
       "...       ...    ...     ...    ...      ...      ...     ...    ...   \n",
       "707869   5.55   0.44    1.85  41.38     1.26     3.79    1.07   51.0   \n",
       "707871   3.78   0.76    2.02  25.58     1.26     3.79    1.07   51.0   \n",
       "707872   3.67   0.58    1.77  26.15     1.26     3.79    1.07   50.0   \n",
       "707873   3.80   0.49    0.75  15.82     1.26     3.79    1.07   50.0   \n",
       "707874   5.20   0.59    2.10  17.05     1.26     3.79    1.07   50.0   \n",
       "\n",
       "          AQI_Bucket  Month  \n",
       "38289           Poor      5  \n",
       "38290           Poor      5  \n",
       "38291           Poor      5  \n",
       "38292           Poor      5  \n",
       "38294           Poor      5  \n",
       "...              ...    ...  \n",
       "707869  Satisfactory      6  \n",
       "707871  Satisfactory      6  \n",
       "707872          Good      6  \n",
       "707873          Good      6  \n",
       "707874          Good      7  \n",
       "\n",
       "[328699 rows x 17 columns]"
      ]
     },
     "execution_count": 48,
     "metadata": {},
     "output_type": "execute_result"
    }
   ],
   "source": [
    "df2"
   ]
  },
  {
   "cell_type": "code",
   "execution_count": 49,
   "metadata": {},
   "outputs": [],
   "source": [
    "def map_season(month):\n",
    "    if month in [3,4,5]:\n",
    "        return \"Spring\"\n",
    "    elif month in [ 6,7,8]:\n",
    "        return \"Summer\"\n",
    "    elif month in [9,10,11]:\n",
    "        return \"Fall\"\n",
    "    else:\n",
    "        return \"Winter\"\n",
    "\n",
    "df2[\"Season\"] = df2[\"Month\"].apply(map_season)"
   ]
  },
  {
   "cell_type": "markdown",
   "metadata": {},
   "source": [
    "Here I have created a season for every month which will allow us to get more insights."
   ]
  },
  {
   "cell_type": "code",
   "execution_count": 50,
   "metadata": {},
   "outputs": [],
   "source": [
    "seaonal_trends = df2.groupby([\"Season\" , \"Month\" , \"City\"])[\"AQI\"].mean().reset_index().sort_values(\"AQI\" , ascending= False)"
   ]
  },
  {
   "cell_type": "code",
   "execution_count": 51,
   "metadata": {},
   "outputs": [
    {
     "data": {
      "text/html": [
       "<div>\n",
       "<style scoped>\n",
       "    .dataframe tbody tr th:only-of-type {\n",
       "        vertical-align: middle;\n",
       "    }\n",
       "\n",
       "    .dataframe tbody tr th {\n",
       "        vertical-align: top;\n",
       "    }\n",
       "\n",
       "    .dataframe thead th {\n",
       "        text-align: right;\n",
       "    }\n",
       "</style>\n",
       "<table border=\"1\" class=\"dataframe\">\n",
       "  <thead>\n",
       "    <tr style=\"text-align: right;\">\n",
       "      <th></th>\n",
       "      <th>Season</th>\n",
       "      <th>Month</th>\n",
       "      <th>City</th>\n",
       "      <th>AQI</th>\n",
       "    </tr>\n",
       "  </thead>\n",
       "  <tbody>\n",
       "    <tr>\n",
       "      <th>175</th>\n",
       "      <td>Summer</td>\n",
       "      <td>8</td>\n",
       "      <td>Ahmedabad</td>\n",
       "      <td>497.467164</td>\n",
       "    </tr>\n",
       "    <tr>\n",
       "      <th>152</th>\n",
       "      <td>Summer</td>\n",
       "      <td>7</td>\n",
       "      <td>Ahmedabad</td>\n",
       "      <td>472.647378</td>\n",
       "    </tr>\n",
       "    <tr>\n",
       "      <th>0</th>\n",
       "      <td>Fall</td>\n",
       "      <td>9</td>\n",
       "      <td>Ahmedabad</td>\n",
       "      <td>439.890173</td>\n",
       "    </tr>\n",
       "    <tr>\n",
       "      <th>215</th>\n",
       "      <td>Winter</td>\n",
       "      <td>2</td>\n",
       "      <td>Ahmedabad</td>\n",
       "      <td>388.922053</td>\n",
       "    </tr>\n",
       "    <tr>\n",
       "      <th>49</th>\n",
       "      <td>Fall</td>\n",
       "      <td>11</td>\n",
       "      <td>Delhi</td>\n",
       "      <td>385.742230</td>\n",
       "    </tr>\n",
       "    <tr>\n",
       "      <th>...</th>\n",
       "      <td>...</td>\n",
       "      <td>...</td>\n",
       "      <td>...</td>\n",
       "      <td>...</td>\n",
       "    </tr>\n",
       "    <tr>\n",
       "      <th>56</th>\n",
       "      <td>Fall</td>\n",
       "      <td>11</td>\n",
       "      <td>Shillong</td>\n",
       "      <td>26.991150</td>\n",
       "    </tr>\n",
       "    <tr>\n",
       "      <th>107</th>\n",
       "      <td>Spring</td>\n",
       "      <td>5</td>\n",
       "      <td>Aizawl</td>\n",
       "      <td>25.082353</td>\n",
       "    </tr>\n",
       "    <tr>\n",
       "      <th>171</th>\n",
       "      <td>Summer</td>\n",
       "      <td>7</td>\n",
       "      <td>Shillong</td>\n",
       "      <td>24.000000</td>\n",
       "    </tr>\n",
       "    <tr>\n",
       "      <th>130</th>\n",
       "      <td>Summer</td>\n",
       "      <td>6</td>\n",
       "      <td>Aizawl</td>\n",
       "      <td>22.313514</td>\n",
       "    </tr>\n",
       "    <tr>\n",
       "      <th>153</th>\n",
       "      <td>Summer</td>\n",
       "      <td>7</td>\n",
       "      <td>Aizawl</td>\n",
       "      <td>20.000000</td>\n",
       "    </tr>\n",
       "  </tbody>\n",
       "</table>\n",
       "<p>257 rows × 4 columns</p>\n",
       "</div>"
      ],
      "text/plain": [
       "     Season  Month       City         AQI\n",
       "175  Summer      8  Ahmedabad  497.467164\n",
       "152  Summer      7  Ahmedabad  472.647378\n",
       "0      Fall      9  Ahmedabad  439.890173\n",
       "215  Winter      2  Ahmedabad  388.922053\n",
       "49     Fall     11      Delhi  385.742230\n",
       "..      ...    ...        ...         ...\n",
       "56     Fall     11   Shillong   26.991150\n",
       "107  Spring      5     Aizawl   25.082353\n",
       "171  Summer      7   Shillong   24.000000\n",
       "130  Summer      6     Aizawl   22.313514\n",
       "153  Summer      7     Aizawl   20.000000\n",
       "\n",
       "[257 rows x 4 columns]"
      ]
     },
     "execution_count": 51,
     "metadata": {},
     "output_type": "execute_result"
    }
   ],
   "source": [
    "seaonal_trends"
   ]
  },
  {
   "cell_type": "code",
   "execution_count": 52,
   "metadata": {},
   "outputs": [
    {
     "data": {
      "image/png": "[encoded data removed]",
      "text/plain": [
       "<Figure size 640x480 with 1 Axes>"
      ]
     },
     "metadata": {},
     "output_type": "display_data"
    }
   ],
   "source": [
    "plt.bar(seaonal_trends[\"Season\"], seaonal_trends[\"AQI\"] , color = \"skyblue\")\n",
    "plt.xlabel(\"Season\")\n",
    "plt.ylabel(\"Average AQI\")\n",
    "plt.title(\"AQI by Season\")\n",
    "plt.show()"
   ]
  },
  {
   "cell_type": "markdown",
   "metadata": {},
   "source": [
    "In Fall and Summer we have very high pollution and in the Spring its the least with Ahmdabad as the highest polluted city for every season."
   ]
  },
  {
   "cell_type": "markdown",
   "metadata": {},
   "source": [
    "3- Are there specific times of the year when air quality improves?"
   ]
  },
  {
   "cell_type": "code",
   "execution_count": 53,
   "metadata": {},
   "outputs": [
    {
     "data": {
      "text/plain": [
       "<Axes: xlabel='Month', ylabel='AQI'>"
      ]
     },
     "execution_count": 53,
     "metadata": {},
     "output_type": "execute_result"
    },
    {
     "data": {
      "image/png": "[encoded data removed]",
      "text/plain": [
       "<Figure size 640x480 with 1 Axes>"
      ]
     },
     "metadata": {},
     "output_type": "display_data"
    }
   ],
   "source": [
    "sns.lineplot(data = df2 , x = \"Month\" , y = \"AQI\")"
   ]
  },
  {
   "cell_type": "markdown",
   "metadata": {},
   "source": [
    "During the fall season the air quality improves. "
   ]
  },
  {
   "cell_type": "markdown",
   "metadata": {},
   "source": [
    "                                                        City Level Analysis"
   ]
  },
  {
   "cell_type": "markdown",
   "metadata": {},
   "source": [
    "4- Top 10 cities with highest AQI."
   ]
  },
  {
   "cell_type": "code",
   "execution_count": 54,
   "metadata": {},
   "outputs": [],
   "source": [
    "top_10 = df2.groupby(\"City\")[\"AQI\"].mean().sort_values(ascending = False).head(10)"
   ]
  },
  {
   "cell_type": "code",
   "execution_count": 55,
   "metadata": {},
   "outputs": [
    {
     "data": {
      "text/plain": [
       "City\n",
       "Ahmedabad       331.791410\n",
       "Delhi           264.737331\n",
       "Gurugram        203.561129\n",
       "Talcher         178.734215\n",
       "Patna           168.603699\n",
       "Brajrajnagar    158.191465\n",
       "Kolkata         139.298116\n",
       "Guwahati        136.245469\n",
       "Jaipur          135.522131\n",
       "Bhopal          133.472227\n",
       "Name: AQI, dtype: float64"
      ]
     },
     "execution_count": 55,
     "metadata": {},
     "output_type": "execute_result"
    }
   ],
   "source": [
    "top_10  "
   ]
  },
  {
   "cell_type": "code",
   "execution_count": 56,
   "metadata": {},
   "outputs": [
    {
     "data": {
      "image/png": "[encoded data removed]",
      "text/plain": [
       "<Figure size 1000x600 with 1 Axes>"
      ]
     },
     "metadata": {},
     "output_type": "display_data"
    }
   ],
   "source": [
    "plt.figure(figsize=(10,6))\n",
    "plt.bar(top_10.index, top_10.values, color = \"skyblue\")\n",
    "plt.xlabel(\"Cities\")\n",
    "plt.ylabel(\"Average AQI\")\n",
    "plt.title(\"Top 10 Cities with Highest AQI\")\n",
    "plt.show()"
   ]
  },
  {
   "cell_type": "markdown",
   "metadata": {},
   "source": [
    "5- Which months have higher AQI and why?"
   ]
  },
  {
   "cell_type": "code",
   "execution_count": 57,
   "metadata": {},
   "outputs": [
    {
     "data": {
      "text/html": [
       "<div>\n",
       "<style scoped>\n",
       "    .dataframe tbody tr th:only-of-type {\n",
       "        vertical-align: middle;\n",
       "    }\n",
       "\n",
       "    .dataframe tbody tr th {\n",
       "        vertical-align: top;\n",
       "    }\n",
       "\n",
       "    .dataframe thead th {\n",
       "        text-align: right;\n",
       "    }\n",
       "</style>\n",
       "<table border=\"1\" class=\"dataframe\">\n",
       "  <thead>\n",
       "    <tr style=\"text-align: right;\">\n",
       "      <th></th>\n",
       "      <th>PM10</th>\n",
       "      <th>PM2.5</th>\n",
       "      <th>NOx</th>\n",
       "      <th>AQI</th>\n",
       "    </tr>\n",
       "    <tr>\n",
       "      <th>Month</th>\n",
       "      <th></th>\n",
       "      <th></th>\n",
       "      <th></th>\n",
       "      <th></th>\n",
       "    </tr>\n",
       "  </thead>\n",
       "  <tbody>\n",
       "    <tr>\n",
       "      <th>1</th>\n",
       "      <td>127.385</td>\n",
       "      <td>70.670</td>\n",
       "      <td>30.80</td>\n",
       "      <td>156.0</td>\n",
       "    </tr>\n",
       "    <tr>\n",
       "      <th>12</th>\n",
       "      <td>127.000</td>\n",
       "      <td>70.530</td>\n",
       "      <td>30.40</td>\n",
       "      <td>152.0</td>\n",
       "    </tr>\n",
       "    <tr>\n",
       "      <th>11</th>\n",
       "      <td>123.300</td>\n",
       "      <td>64.830</td>\n",
       "      <td>30.54</td>\n",
       "      <td>145.0</td>\n",
       "    </tr>\n",
       "    <tr>\n",
       "      <th>2</th>\n",
       "      <td>118.360</td>\n",
       "      <td>58.000</td>\n",
       "      <td>29.83</td>\n",
       "      <td>132.0</td>\n",
       "    </tr>\n",
       "    <tr>\n",
       "      <th>10</th>\n",
       "      <td>100.880</td>\n",
       "      <td>48.470</td>\n",
       "      <td>27.18</td>\n",
       "      <td>114.0</td>\n",
       "    </tr>\n",
       "    <tr>\n",
       "      <th>3</th>\n",
       "      <td>97.750</td>\n",
       "      <td>42.750</td>\n",
       "      <td>23.41</td>\n",
       "      <td>113.0</td>\n",
       "    </tr>\n",
       "    <tr>\n",
       "      <th>5</th>\n",
       "      <td>82.630</td>\n",
       "      <td>32.030</td>\n",
       "      <td>19.58</td>\n",
       "      <td>101.0</td>\n",
       "    </tr>\n",
       "    <tr>\n",
       "      <th>4</th>\n",
       "      <td>80.500</td>\n",
       "      <td>33.110</td>\n",
       "      <td>19.68</td>\n",
       "      <td>98.0</td>\n",
       "    </tr>\n",
       "    <tr>\n",
       "      <th>6</th>\n",
       "      <td>57.450</td>\n",
       "      <td>23.750</td>\n",
       "      <td>17.66</td>\n",
       "      <td>78.0</td>\n",
       "    </tr>\n",
       "    <tr>\n",
       "      <th>9</th>\n",
       "      <td>57.000</td>\n",
       "      <td>25.415</td>\n",
       "      <td>21.24</td>\n",
       "      <td>78.0</td>\n",
       "    </tr>\n",
       "    <tr>\n",
       "      <th>7</th>\n",
       "      <td>55.500</td>\n",
       "      <td>23.210</td>\n",
       "      <td>20.88</td>\n",
       "      <td>73.0</td>\n",
       "    </tr>\n",
       "    <tr>\n",
       "      <th>8</th>\n",
       "      <td>52.750</td>\n",
       "      <td>22.000</td>\n",
       "      <td>21.70</td>\n",
       "      <td>71.0</td>\n",
       "    </tr>\n",
       "  </tbody>\n",
       "</table>\n",
       "</div>"
      ],
      "text/plain": [
       "          PM10   PM2.5    NOx    AQI\n",
       "Month                               \n",
       "1      127.385  70.670  30.80  156.0\n",
       "12     127.000  70.530  30.40  152.0\n",
       "11     123.300  64.830  30.54  145.0\n",
       "2      118.360  58.000  29.83  132.0\n",
       "10     100.880  48.470  27.18  114.0\n",
       "3       97.750  42.750  23.41  113.0\n",
       "5       82.630  32.030  19.58  101.0\n",
       "4       80.500  33.110  19.68   98.0\n",
       "6       57.450  23.750  17.66   78.0\n",
       "9       57.000  25.415  21.24   78.0\n",
       "7       55.500  23.210  20.88   73.0\n",
       "8       52.750  22.000  21.70   71.0"
      ]
     },
     "execution_count": 57,
     "metadata": {},
     "output_type": "execute_result"
    }
   ],
   "source": [
    "monthly_trends.sort_values(by = \"AQI\" , ascending = False)"
   ]
  },
  {
   "cell_type": "code",
   "execution_count": 58,
   "metadata": {},
   "outputs": [
    {
     "data": {
      "image/png": "[encoded data removed]",
      "text/plain": [
       "<Figure size 1000x600 with 1 Axes>"
      ]
     },
     "metadata": {},
     "output_type": "display_data"
    }
   ],
   "source": [
    "plt.figure(figsize=(10,6))\n",
    "plt.bar(monthly_trends.index, monthly_trends[\"AQI\"], color = \"skyblue\")\n",
    "plt.xlabel(\"Month\")\n",
    "plt.ylabel(\"Average AQI\")\n",
    "plt.title(\"AQI by Month\")\n",
    "plt.show()"
   ]
  },
  {
   "cell_type": "markdown",
   "metadata": {},
   "source": [
    "As we can see the beginning of the months and the end months have higher AQI. This can be due to festivals like diwali, New Year."
   ]
  },
  {
   "cell_type": "markdown",
   "metadata": {},
   "source": [
    "                                                        Correlation Analysis"
   ]
  },
  {
   "cell_type": "markdown",
   "metadata": {},
   "source": [
    "6- How does AQI correlate with other Air pollutants?"
   ]
  },
  {
   "cell_type": "code",
   "execution_count": 59,
   "metadata": {},
   "outputs": [],
   "source": [
    "corrrelation = df2[[\"AQI\" , \"PM10\" , \"PM2.5\" , \"NOx\" , \"NH3\" , \"CO\" , \"SO2\" , \"O3\"]].corr()"
   ]
  },
  {
   "cell_type": "code",
   "execution_count": 60,
   "metadata": {},
   "outputs": [
    {
     "data": {
      "image/png": "[encoded data removed]",
      "text/plain": [
       "<Figure size 800x600 with 2 Axes>"
      ]
     },
     "metadata": {},
     "output_type": "display_data"
    }
   ],
   "source": [
    "\n",
    "plt.figure(figsize=(8, 6))\n",
    "sns.heatmap(corrrelation, annot=True, fmt=\".2f\", cmap=\"coolwarm\", cbar=True)\n",
    "plt.title(\"Correlation Matrix of Air Quality Metrics\", fontsize=16)\n",
    "plt.show()"
   ]
  },
  {
   "cell_type": "markdown",
   "metadata": {},
   "source": [
    "With the above heatmap we are able to see the various correlations. \n",
    "The AQI has high correlation with PM10 and PM2.5, \n",
    "PM10 has high correlation with PM2.5,\n",
    "and PM2.5 is also correlated with PM10.\n",
    "All other metrics also have a +ve correlation but not as much as the above."
   ]
  },
  {
   "cell_type": "markdown",
   "metadata": {},
   "source": [
    "                                                    Pollution Events"
   ]
  },
  {
   "cell_type": "markdown",
   "metadata": {},
   "source": [
    "7- What are the spikes in AQI?"
   ]
  },
  {
   "cell_type": "code",
   "execution_count": 61,
   "metadata": {},
   "outputs": [],
   "source": [
    "high_aqi_cities    = df2.groupby(\"City\")[\"AQI\"].median().sort_values(ascending = False).head(10)"
   ]
  },
  {
   "cell_type": "code",
   "execution_count": 62,
   "metadata": {},
   "outputs": [
    {
     "data": {
      "text/plain": [
       "City\n",
       "Ahmedabad        319.0\n",
       "Delhi            263.0\n",
       "Gurugram         177.0\n",
       "Patna            149.0\n",
       "Talcher          136.0\n",
       "Brajrajnagar     126.0\n",
       "Jaipur           123.0\n",
       "Bhopal           121.0\n",
       "Amritsar         106.0\n",
       "Visakhapatnam    105.0\n",
       "Name: AQI, dtype: float64"
      ]
     },
     "execution_count": 62,
     "metadata": {},
     "output_type": "execute_result"
    }
   ],
   "source": [
    "high_aqi_cities"
   ]
  },
  {
   "cell_type": "code",
   "execution_count": 63,
   "metadata": {},
   "outputs": [
    {
     "data": {
      "text/plain": [
       "<Axes: xlabel='City'>"
      ]
     },
     "execution_count": 63,
     "metadata": {},
     "output_type": "execute_result"
    },
    {
     "data": {
      "image/png": "[encoded data removed]",
      "text/plain": [
       "<Figure size 1200x600 with 1 Axes>"
      ]
     },
     "metadata": {},
     "output_type": "display_data"
    }
   ],
   "source": [
    "plt.figure(figsize=(12,6))\n",
    "sns.lineplot(x= high_aqi_cities.index , y = high_aqi_cities.values )\n"
   ]
  },
  {
   "cell_type": "markdown",
   "metadata": {},
   "source": [
    "As we can see, the ahmedabad has the highest spike for the year 2016-2020."
   ]
  },
  {
   "cell_type": "markdown",
   "metadata": {},
   "source": [
    "8- How often do cities expereince severe and very poor AQI and on which months?"
   ]
  },
  {
   "cell_type": "code",
   "execution_count": 64,
   "metadata": {},
   "outputs": [
    {
     "data": {
      "text/plain": [
       "AQI_Bucket\n",
       "Satisfactory    120082\n",
       "Moderate        117555\n",
       "Poor             33785\n",
       "Good             24789\n",
       "Very Poor        24043\n",
       "Severe            8445\n",
       "Name: count, dtype: int64"
      ]
     },
     "execution_count": 64,
     "metadata": {},
     "output_type": "execute_result"
    }
   ],
   "source": [
    "df2[\"AQI_Bucket\"].value_counts()"
   ]
  },
  {
   "cell_type": "code",
   "execution_count": 65,
   "metadata": {},
   "outputs": [],
   "source": [
    "Bad_aqi = (\n",
    "    df2[df2[\"AQI_Bucket\"].isin([\"Poor\", \"Severe\"])]\n",
    "    .groupby([\"City\", \"Month\" , \"AQI_Bucket\"])\n",
    "    .size()\n",
    "    .sort_values(ascending=False)\n",
    ")"
   ]
  },
  {
   "cell_type": "code",
   "execution_count": 66,
   "metadata": {},
   "outputs": [
    {
     "data": {
      "text/plain": [
       "City          Month  AQI_Bucket\n",
       "Delhi         4      Poor          1880\n",
       "              3      Poor          1817\n",
       "              5      Poor          1490\n",
       "              11     Severe        1299\n",
       "              2      Poor          1248\n",
       "                                   ... \n",
       "Ahmedabad     8      Poor             2\n",
       "Talcher       1      Severe           2\n",
       "Brajrajnagar  5      Poor             1\n",
       "              8      Poor             1\n",
       "Delhi         7      Severe           1\n",
       "Length: 201, dtype: int64"
      ]
     },
     "execution_count": 66,
     "metadata": {},
     "output_type": "execute_result"
    }
   ],
   "source": [
    "Bad_aqi"
   ]
  },
  {
   "cell_type": "markdown",
   "metadata": {},
   "source": [
    "As we can see Delhi and Ahmedabad has the most occurences of Severe and Very Poor air quality."
   ]
  },
  {
   "cell_type": "markdown",
   "metadata": {},
   "source": [
    "9- How does Air Quality varies accross regions?"
   ]
  },
  {
   "cell_type": "code",
   "execution_count": 67,
   "metadata": {},
   "outputs": [
    {
     "data": {
      "text/plain": [
       "City\n",
       "Delhi                 43629\n",
       "Hyderabad             37757\n",
       "Bengaluru             31967\n",
       "Jaipur                23722\n",
       "Visakhapatnam         22458\n",
       "Thiruvananthapuram    20504\n",
       "Kolkata               17567\n",
       "Mumbai                16797\n",
       "Amaravati             16442\n",
       "Gurugram              13218\n",
       "Amritsar              12523\n",
       "Brajrajnagar          12044\n",
       "Guwahati              11256\n",
       "Talcher                6953\n",
       "Ahmedabad              6496\n",
       "Bhopal                 6355\n",
       "Chennai                5800\n",
       "Chandigarh             5717\n",
       "Coimbatore             5348\n",
       "Patna                  4542\n",
       "Shillong               3808\n",
       "Kochi                  2655\n",
       "Aizawl                 1141\n",
       "Name: count, dtype: int64"
      ]
     },
     "execution_count": 67,
     "metadata": {},
     "output_type": "execute_result"
    }
   ],
   "source": [
    "df2[\"City\"].value_counts()"
   ]
  },
  {
   "cell_type": "code",
   "execution_count": 68,
   "metadata": {},
   "outputs": [],
   "source": [
    "def map_regions(city):\n",
    "    if city in [\"Delhi\",\"Jaipur\",\"Gurugram\",\"Amritsar\", \"Chandigarh\"]:\n",
    "        return 'North India'\n",
    "    \n",
    "    elif city in [\"Hyderabad\" , \"Bengaluru\", \"Visakhapatnam\", \"Thiruvananthapuram\" , \"Chennai\" , \"Coimbatore\"\"Kochi\" , \"Amaravati\"]:\n",
    "        return 'South India'\n",
    "    \n",
    "    elif city in [\"Mumbai\" , \"Ahmedabad\" ,  \"Bhopal\" ] :\n",
    "        return \"West India\"\n",
    "\n",
    "    else :\n",
    "        return \"East India\""
   ]
  },
  {
   "cell_type": "code",
   "execution_count": 69,
   "metadata": {},
   "outputs": [],
   "source": [
    "df2[\"Regions\"] = df2[\"City\"].apply(map_regions)"
   ]
  },
  {
   "cell_type": "code",
   "execution_count": 70,
   "metadata": {},
   "outputs": [],
   "source": [
    "regional_trends = df2.groupby(\"Regions\")[\"AQI\"].median().sort_values(ascending = False)"
   ]
  },
  {
   "cell_type": "code",
   "execution_count": 71,
   "metadata": {},
   "outputs": [
    {
     "data": {
      "text/plain": [
       "Regions\n",
       "North India    164.0\n",
       "West India     117.0\n",
       "East India     104.0\n",
       "South India     89.0\n",
       "Name: AQI, dtype: float64"
      ]
     },
     "execution_count": 71,
     "metadata": {},
     "output_type": "execute_result"
    }
   ],
   "source": [
    "regional_trends"
   ]
  },
  {
   "cell_type": "code",
   "execution_count": 72,
   "metadata": {},
   "outputs": [
    {
     "data": {
      "image/png": "[encoded data removed]",
      "text/plain": [
       "<Figure size 640x480 with 1 Axes>"
      ]
     },
     "metadata": {},
     "output_type": "display_data"
    }
   ],
   "source": [
    "sns.lineplot(x= regional_trends.index , y = regional_trends.values )\n",
    "plt.xlabel(\"Regions\")\n",
    "plt.ylabel(\"Average AQI\")\n",
    "plt.title(\"AQI by Regions\")\n",
    "plt.show()"
   ]
  },
  {
   "cell_type": "code",
   "execution_count": 73,
   "metadata": {},
   "outputs": [
    {
     "data": {
      "text/plain": [
       "Regions\n",
       "North India    164.0\n",
       "West India     117.0\n",
       "East India     104.0\n",
       "South India     89.0\n",
       "Name: AQI, dtype: float64"
      ]
     },
     "execution_count": 73,
     "metadata": {},
     "output_type": "execute_result"
    }
   ],
   "source": [
    "regional_trends"
   ]
  },
  {
   "cell_type": "markdown",
   "metadata": {},
   "source": [
    "North India has the highest AQI in comparsion to other reigions."
   ]
  },
  {
   "cell_type": "markdown",
   "metadata": {},
   "source": [
    "                                                            Conclusion"
   ]
  },
  {
   "cell_type": "markdown",
   "metadata": {},
   "source": [
    "Northern Regions as Pollution Hotspots\n",
    "The northern regions of India, particularly Delhi, consistently experience significantly higher AQI levels. This is primarily due to a combination of industrial emissions and agricultural burning during the post-harvest season.\n",
    "\n",
    "Delhi and Ahmedabad: Cities with Alarming Air Quality\n",
    "Delhi and Ahmedabad lead in the number of days with Severe and Very Poor air quality, highlighting a critical need for targeted air pollution control measures.\n",
    "\n",
    "Strong Correlations with Key Pollutants\n",
    "AQI is strongly correlated with PM10 and PM2.5, which are the most impactful pollutants. Interestingly, PM10 and PM2.5 also show high mutual correlation, reinforcing their combined influence on air quality.\n",
    "\n",
    "Winter Months with Highest AQI\n",
    "January, February, November, and December consistently record the highest AQI levels, driven by factors such as low temperatures, reduced wind speeds, and increased emissions from heating and festivals.\n",
    "\n",
    "Top Polluted Cities\n",
    "Delhi, Ahmedabad, and Gurugram rank as the cities with the highest overall AQI, indicating persistent air quality challenges.\n",
    "\n",
    "Air Quality Improvements in Monsoon\n",
    "Significant improvements in AQI are observed during the months of July, August owing to increased rainfall and stronger winds that help disperse pollutants."
   ]
  },
  {
   "cell_type": "markdown",
   "metadata": {},
   "source": [
    "                                                            Future Scope"
   ]
  },
  {
   "cell_type": "markdown",
   "metadata": {},
   "source": [
    "Building predictive models to forecast AQI levels using machine learning.\n",
    "\n",
    "Expanding the dataset to include real-time AQI monitoring."
   ]
  }
 ],
 "metadata": {
  "kernelspec": {
   "display_name": "Python 3",
   "language": "python",
   "name": "python3"
  },
  "language_info": {
   "codemirror_mode": {
    "name": "ipython",
    "version": 3
   },
   "file_extension": ".py",
   "mimetype": "text/x-python",
   "name": "python",
   "nbconvert_exporter": "python",
   "pygments_lexer": "ipython3",
   "version": "3.11.9"
  }
 },
 "nbformat": 4,
 "nbformat_minor": 2
}
